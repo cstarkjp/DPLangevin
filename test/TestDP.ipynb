{
 "cells": [
  {
   "cell_type": "markdown",
   "id": "62e8f9e6",
   "metadata": {},
   "source": [
    "# **Test integration of DP Langevin**"
   ]
  },
  {
   "cell_type": "markdown",
   "id": "5bc36fcd",
   "metadata": {},
   "source": [
    "Simple Jupyter notebook testing an adaptation of the Villa Martín/Buendía (VMB)\n",
    "implementation of the Dornic et al (2005) method of integrating DP/APT-type\n",
    "Langevin equations using an operator-splitting method. Access to the heavily \n",
    "refactored VMB C++ code is provided via a pybind11 wrapper.\n",
    "\n",
    "See the main README for references."
   ]
  },
  {
   "cell_type": "markdown",
   "id": "2455d206",
   "metadata": {},
   "source": [
    "<hr>\n",
    "\n",
    "## Preliminaries"
   ]
  },
  {
   "cell_type": "code",
   "execution_count": 1,
   "id": "92462053",
   "metadata": {},
   "outputs": [],
   "source": [
    "import numpy as np\n",
    "from matplotlib import pyplot as plt\n",
    "from numpy.typing import NDArray\n",
    "import dplvn\n",
    "import initialize"
   ]
  },
  {
   "cell_type": "markdown",
   "id": "6c97fca7",
   "metadata": {},
   "source": [
    "<hr>\n",
    "\n",
    "## Package `dplvn` info"
   ]
  },
  {
   "cell_type": "code",
   "execution_count": 2,
   "id": "38f4a6d5",
   "metadata": {},
   "outputs": [
    {
     "name": "stdout",
     "output_type": "stream",
     "text": [
      "dplvn version:  2025.09.16a1\n"
     ]
    }
   ],
   "source": [
    "print(f\"dplvn version:  {dplvn.__version__}\")"
   ]
  },
  {
   "cell_type": "code",
   "execution_count": 3,
   "id": "43017aee",
   "metadata": {},
   "outputs": [
    {
     "name": "stdout",
     "output_type": "stream",
     "text": [
      "Help on module dplvn:\n",
      "\n",
      "NAME\n",
      "    dplvn - Operator-splitting method of integrating DP-type Langevin equations\n",
      "\n",
      "CLASSES\n",
      "    pybind11_builtins.pybind11_object(builtins.object)\n",
      "        BoundaryCondition\n",
      "        GridDimension\n",
      "        GridTopology\n",
      "        InitialCondition\n",
      "        IntegrationMethod\n",
      "        SimDP\n",
      "\n",
      "    class BoundaryCondition(pybind11_builtins.pybind11_object)\n",
      "     |  Method resolution order:\n",
      "     |      BoundaryCondition\n",
      "     |      pybind11_builtins.pybind11_object\n",
      "     |      builtins.object\n",
      "     |\n",
      "     |  Methods defined here:\n",
      "     |\n",
      "     |  __eq__(...)\n",
      "     |      __eq__(self: object, other: object, /) -> bool\n",
      "     |\n",
      "     |  __getstate__(...)\n",
      "     |      __getstate__(self: object, /) -> int\n",
      "     |\n",
      "     |  __hash__(...)\n",
      "     |      __hash__(self: object, /) -> int\n",
      "     |\n",
      "     |  __index__(...)\n",
      "     |      __index__(self: dplvn.BoundaryCondition, /) -> int\n",
      "     |\n",
      "     |  __init__(...)\n",
      "     |      __init__(self: dplvn.BoundaryCondition, value: typing.SupportsInt) -> None\n",
      "     |\n",
      "     |  __int__(...)\n",
      "     |      __int__(self: dplvn.BoundaryCondition, /) -> int\n",
      "     |\n",
      "     |  __ne__(...)\n",
      "     |      __ne__(self: object, other: object, /) -> bool\n",
      "     |\n",
      "     |  __repr__(...)\n",
      "     |      __repr__(self: object, /) -> str\n",
      "     |\n",
      "     |  __setstate__(...)\n",
      "     |      __setstate__(self: dplvn.BoundaryCondition, state: typing.SupportsInt, /) -> None\n",
      "     |\n",
      "     |  __str__(...)\n",
      "     |      __str__(self: object, /) -> str\n",
      "     |\n",
      "     |  ----------------------------------------------------------------------\n",
      "     |  Readonly properties defined here:\n",
      "     |\n",
      "     |  __members__\n",
      "     |\n",
      "     |  name\n",
      "     |      name(self: object, /) -> str\n",
      "     |\n",
      "     |  value\n",
      "     |\n",
      "     |  ----------------------------------------------------------------------\n",
      "     |  Data and other attributes defined here:\n",
      "     |\n",
      "     |  FIXED_FLUX = <BoundaryCondition.FIXED_FLUX: 3>\n",
      "     |\n",
      "     |  FIXED_VALUE = <BoundaryCondition.FIXED_VALUE: 2>\n",
      "     |\n",
      "     |  FLOATING = <BoundaryCondition.FLOATING: 1>\n",
      "     |\n",
      "     |  ----------------------------------------------------------------------\n",
      "     |  Static methods inherited from pybind11_builtins.pybind11_object:\n",
      "     |\n",
      "     |  __new__(*args, **kwargs) class method of pybind11_builtins.pybind11_object\n",
      "     |      Create and return a new object.  See help(type) for accurate signature.\n",
      "\n",
      "    class GridDimension(pybind11_builtins.pybind11_object)\n",
      "     |  Method resolution order:\n",
      "     |      GridDimension\n",
      "     |      pybind11_builtins.pybind11_object\n",
      "     |      builtins.object\n",
      "     |\n",
      "     |  Methods defined here:\n",
      "     |\n",
      "     |  __eq__(...)\n",
      "     |      __eq__(self: object, other: object, /) -> bool\n",
      "     |\n",
      "     |  __getstate__(...)\n",
      "     |      __getstate__(self: object, /) -> int\n",
      "     |\n",
      "     |  __hash__(...)\n",
      "     |      __hash__(self: object, /) -> int\n",
      "     |\n",
      "     |  __index__(...)\n",
      "     |      __index__(self: dplvn.GridDimension, /) -> int\n",
      "     |\n",
      "     |  __init__(...)\n",
      "     |      __init__(self: dplvn.GridDimension, value: typing.SupportsInt) -> None\n",
      "     |\n",
      "     |  __int__(...)\n",
      "     |      __int__(self: dplvn.GridDimension, /) -> int\n",
      "     |\n",
      "     |  __ne__(...)\n",
      "     |      __ne__(self: object, other: object, /) -> bool\n",
      "     |\n",
      "     |  __repr__(...)\n",
      "     |      __repr__(self: object, /) -> str\n",
      "     |\n",
      "     |  __setstate__(...)\n",
      "     |      __setstate__(self: dplvn.GridDimension, state: typing.SupportsInt, /) -> None\n",
      "     |\n",
      "     |  __str__(...)\n",
      "     |      __str__(self: object, /) -> str\n",
      "     |\n",
      "     |  ----------------------------------------------------------------------\n",
      "     |  Readonly properties defined here:\n",
      "     |\n",
      "     |  __members__\n",
      "     |\n",
      "     |  name\n",
      "     |      name(self: object, /) -> str\n",
      "     |\n",
      "     |  value\n",
      "     |\n",
      "     |  ----------------------------------------------------------------------\n",
      "     |  Data and other attributes defined here:\n",
      "     |\n",
      "     |  D1 = <GridDimension.D1: 1>\n",
      "     |\n",
      "     |  D2 = <GridDimension.D2: 2>\n",
      "     |\n",
      "     |  D3 = <GridDimension.D3: 3>\n",
      "     |\n",
      "     |  D4 = <GridDimension.D4: 4>\n",
      "     |\n",
      "     |  ----------------------------------------------------------------------\n",
      "     |  Static methods inherited from pybind11_builtins.pybind11_object:\n",
      "     |\n",
      "     |  __new__(*args, **kwargs) class method of pybind11_builtins.pybind11_object\n",
      "     |      Create and return a new object.  See help(type) for accurate signature.\n",
      "\n",
      "    class GridTopology(pybind11_builtins.pybind11_object)\n",
      "     |  Method resolution order:\n",
      "     |      GridTopology\n",
      "     |      pybind11_builtins.pybind11_object\n",
      "     |      builtins.object\n",
      "     |\n",
      "     |  Methods defined here:\n",
      "     |\n",
      "     |  __eq__(...)\n",
      "     |      __eq__(self: object, other: object, /) -> bool\n",
      "     |\n",
      "     |  __getstate__(...)\n",
      "     |      __getstate__(self: object, /) -> int\n",
      "     |\n",
      "     |  __hash__(...)\n",
      "     |      __hash__(self: object, /) -> int\n",
      "     |\n",
      "     |  __index__(...)\n",
      "     |      __index__(self: dplvn.GridTopology, /) -> int\n",
      "     |\n",
      "     |  __init__(...)\n",
      "     |      __init__(self: dplvn.GridTopology, value: typing.SupportsInt) -> None\n",
      "     |\n",
      "     |  __int__(...)\n",
      "     |      __int__(self: dplvn.GridTopology, /) -> int\n",
      "     |\n",
      "     |  __ne__(...)\n",
      "     |      __ne__(self: object, other: object, /) -> bool\n",
      "     |\n",
      "     |  __repr__(...)\n",
      "     |      __repr__(self: object, /) -> str\n",
      "     |\n",
      "     |  __setstate__(...)\n",
      "     |      __setstate__(self: dplvn.GridTopology, state: typing.SupportsInt, /) -> None\n",
      "     |\n",
      "     |  __str__(...)\n",
      "     |      __str__(self: object, /) -> str\n",
      "     |\n",
      "     |  ----------------------------------------------------------------------\n",
      "     |  Readonly properties defined here:\n",
      "     |\n",
      "     |  __members__\n",
      "     |\n",
      "     |  name\n",
      "     |      name(self: object, /) -> str\n",
      "     |\n",
      "     |  value\n",
      "     |\n",
      "     |  ----------------------------------------------------------------------\n",
      "     |  Data and other attributes defined here:\n",
      "     |\n",
      "     |  BOUNDED = <GridTopology.BOUNDED: 1>\n",
      "     |\n",
      "     |  PERIODIC = <GridTopology.PERIODIC: 2>\n",
      "     |\n",
      "     |  ----------------------------------------------------------------------\n",
      "     |  Static methods inherited from pybind11_builtins.pybind11_object:\n",
      "     |\n",
      "     |  __new__(*args, **kwargs) class method of pybind11_builtins.pybind11_object\n",
      "     |      Create and return a new object.  See help(type) for accurate signature.\n",
      "\n",
      "    class InitialCondition(pybind11_builtins.pybind11_object)\n",
      "     |  Method resolution order:\n",
      "     |      InitialCondition\n",
      "     |      pybind11_builtins.pybind11_object\n",
      "     |      builtins.object\n",
      "     |\n",
      "     |  Methods defined here:\n",
      "     |\n",
      "     |  __eq__(...)\n",
      "     |      __eq__(self: object, other: object, /) -> bool\n",
      "     |\n",
      "     |  __getstate__(...)\n",
      "     |      __getstate__(self: object, /) -> int\n",
      "     |\n",
      "     |  __hash__(...)\n",
      "     |      __hash__(self: object, /) -> int\n",
      "     |\n",
      "     |  __index__(...)\n",
      "     |      __index__(self: dplvn.InitialCondition, /) -> int\n",
      "     |\n",
      "     |  __init__(...)\n",
      "     |      __init__(self: dplvn.InitialCondition, value: typing.SupportsInt) -> None\n",
      "     |\n",
      "     |  __int__(...)\n",
      "     |      __int__(self: dplvn.InitialCondition, /) -> int\n",
      "     |\n",
      "     |  __ne__(...)\n",
      "     |      __ne__(self: object, other: object, /) -> bool\n",
      "     |\n",
      "     |  __repr__(...)\n",
      "     |      __repr__(self: object, /) -> str\n",
      "     |\n",
      "     |  __setstate__(...)\n",
      "     |      __setstate__(self: dplvn.InitialCondition, state: typing.SupportsInt, /) -> None\n",
      "     |\n",
      "     |  __str__(...)\n",
      "     |      __str__(self: object, /) -> str\n",
      "     |\n",
      "     |  ----------------------------------------------------------------------\n",
      "     |  Readonly properties defined here:\n",
      "     |\n",
      "     |  __members__\n",
      "     |\n",
      "     |  name\n",
      "     |      name(self: object, /) -> str\n",
      "     |\n",
      "     |  value\n",
      "     |\n",
      "     |  ----------------------------------------------------------------------\n",
      "     |  Data and other attributes defined here:\n",
      "     |\n",
      "     |  CONSTANT_VALUE = <InitialCondition.CONSTANT_VALUE: 3>\n",
      "     |\n",
      "     |  RANDOM_GAUSSIAN = <InitialCondition.RANDOM_GAUSSIAN: 2>\n",
      "     |\n",
      "     |  RANDOM_UNIFORM = <InitialCondition.RANDOM_UNIFORM: 1>\n",
      "     |\n",
      "     |  SINGLE_SEED = <InitialCondition.SINGLE_SEED: 4>\n",
      "     |\n",
      "     |  ----------------------------------------------------------------------\n",
      "     |  Static methods inherited from pybind11_builtins.pybind11_object:\n",
      "     |\n",
      "     |  __new__(*args, **kwargs) class method of pybind11_builtins.pybind11_object\n",
      "     |      Create and return a new object.  See help(type) for accurate signature.\n",
      "\n",
      "    class IntegrationMethod(pybind11_builtins.pybind11_object)\n",
      "     |  Method resolution order:\n",
      "     |      IntegrationMethod\n",
      "     |      pybind11_builtins.pybind11_object\n",
      "     |      builtins.object\n",
      "     |\n",
      "     |  Methods defined here:\n",
      "     |\n",
      "     |  __eq__(...)\n",
      "     |      __eq__(self: object, other: object, /) -> bool\n",
      "     |\n",
      "     |  __getstate__(...)\n",
      "     |      __getstate__(self: object, /) -> int\n",
      "     |\n",
      "     |  __hash__(...)\n",
      "     |      __hash__(self: object, /) -> int\n",
      "     |\n",
      "     |  __index__(...)\n",
      "     |      __index__(self: dplvn.IntegrationMethod, /) -> int\n",
      "     |\n",
      "     |  __init__(...)\n",
      "     |      __init__(self: dplvn.IntegrationMethod, value: typing.SupportsInt) -> None\n",
      "     |\n",
      "     |  __int__(...)\n",
      "     |      __int__(self: dplvn.IntegrationMethod, /) -> int\n",
      "     |\n",
      "     |  __ne__(...)\n",
      "     |      __ne__(self: object, other: object, /) -> bool\n",
      "     |\n",
      "     |  __repr__(...)\n",
      "     |      __repr__(self: object, /) -> str\n",
      "     |\n",
      "     |  __setstate__(...)\n",
      "     |      __setstate__(self: dplvn.IntegrationMethod, state: typing.SupportsInt, /) -> None\n",
      "     |\n",
      "     |  __str__(...)\n",
      "     |      __str__(self: object, /) -> str\n",
      "     |\n",
      "     |  ----------------------------------------------------------------------\n",
      "     |  Readonly properties defined here:\n",
      "     |\n",
      "     |  __members__\n",
      "     |\n",
      "     |  name\n",
      "     |      name(self: object, /) -> str\n",
      "     |\n",
      "     |  value\n",
      "     |\n",
      "     |  ----------------------------------------------------------------------\n",
      "     |  Data and other attributes defined here:\n",
      "     |\n",
      "     |  EULER = <IntegrationMethod.EULER: 1>\n",
      "     |\n",
      "     |  RUNGE_KUTTA = <IntegrationMethod.RUNGE_KUTTA: 2>\n",
      "     |\n",
      "     |  ----------------------------------------------------------------------\n",
      "     |  Static methods inherited from pybind11_builtins.pybind11_object:\n",
      "     |\n",
      "     |  __new__(*args, **kwargs) class method of pybind11_builtins.pybind11_object\n",
      "     |      Create and return a new object.  See help(type) for accurate signature.\n",
      "\n",
      "    class SimDP(pybind11_builtins.pybind11_object)\n",
      "     |  Method resolution order:\n",
      "     |      SimDP\n",
      "     |      pybind11_builtins.pybind11_object\n",
      "     |      builtins.object\n",
      "     |\n",
      "     |  Methods defined here:\n",
      "     |\n",
      "     |  __init__(...)\n",
      "     |      __init__(self: dplvn.SimDP, linear: typing.SupportsFloat = 1.0, quadratic: typing.SupportsFloat = 2.0, diffusion: typing.SupportsFloat = 0.1, noise: typing.SupportsFloat = 1.0, t_final: typing.SupportsFloat = 100.0, dx: typing.SupportsFloat = 0.5, dt: typing.SupportsFloat = 0.01, random_seed: typing.SupportsInt = 1, grid_dimension: dplvn.GridDimension = <GridDimension.D2: 2>, grid_size: collections.abc.Sequence[typing.SupportsInt] = [0, 0, 0, 0], grid_topology: dplvn.GridTopology = <GridTopology.BOUNDED: 1>, boundary_condition: dplvn.BoundaryCondition = <BoundaryCondition.FLOATING: 1>, initial_condition: dplvn.InitialCondition = <InitialCondition.RANDOM_UNIFORM: 1>, integration_method: dplvn.IntegrationMethod = <IntegrationMethod.RUNGE_KUTTA: 2>) -> None\n",
      "     |\n",
      "     |      Simulation of DP Langevin equation\n",
      "     |\n",
      "     |  get_density(...)\n",
      "     |      get_density(self: dplvn.SimDP) -> numpy.typing.NDArray[numpy.float64]\n",
      "     |\n",
      "     |  get_i_epoch(...)\n",
      "     |      get_i_epoch(self: dplvn.SimDP) -> int\n",
      "     |\n",
      "     |  get_mean_densities(...)\n",
      "     |      get_mean_densities(self: dplvn.SimDP) -> numpy.typing.NDArray[numpy.float64]\n",
      "     |\n",
      "     |  get_n_epochs(...)\n",
      "     |      get_n_epochs(self: dplvn.SimDP) -> int\n",
      "     |\n",
      "     |  get_t_epoch(...)\n",
      "     |      get_t_epoch(self: dplvn.SimDP) -> float\n",
      "     |\n",
      "     |  get_t_epochs(...)\n",
      "     |      get_t_epochs(self: dplvn.SimDP) -> numpy.typing.NDArray[numpy.float64]\n",
      "     |\n",
      "     |  initialize(...)\n",
      "     |      initialize(self: dplvn.SimDP) -> bool\n",
      "     |\n",
      "     |  process(...)\n",
      "     |      process(self: dplvn.SimDP) -> bool\n",
      "     |\n",
      "     |  run(...)\n",
      "     |      run(self: dplvn.SimDP, arg0: typing.SupportsInt) -> bool\n",
      "     |\n",
      "     |  ----------------------------------------------------------------------\n",
      "     |  Static methods inherited from pybind11_builtins.pybind11_object:\n",
      "     |\n",
      "     |  __new__(*args, **kwargs) class method of pybind11_builtins.pybind11_object\n",
      "     |      Create and return a new object.  See help(type) for accurate signature.\n",
      "\n",
      "DATA\n",
      "    BOUNDED = <GridTopology.BOUNDED: 1>\n",
      "    CONSTANT_VALUE = <InitialCondition.CONSTANT_VALUE: 3>\n",
      "    D1 = <GridDimension.D1: 1>\n",
      "    D2 = <GridDimension.D2: 2>\n",
      "    D3 = <GridDimension.D3: 3>\n",
      "    D4 = <GridDimension.D4: 4>\n",
      "    EULER = <IntegrationMethod.EULER: 1>\n",
      "    FIXED_FLUX = <BoundaryCondition.FIXED_FLUX: 3>\n",
      "    FIXED_VALUE = <BoundaryCondition.FIXED_VALUE: 2>\n",
      "    FLOATING = <BoundaryCondition.FLOATING: 1>\n",
      "    PERIODIC = <GridTopology.PERIODIC: 2>\n",
      "    RANDOM_GAUSSIAN = <InitialCondition.RANDOM_GAUSSIAN: 2>\n",
      "    RANDOM_UNIFORM = <InitialCondition.RANDOM_UNIFORM: 1>\n",
      "    RUNGE_KUTTA = <IntegrationMethod.RUNGE_KUTTA: 2>\n",
      "    SINGLE_SEED = <InitialCondition.SINGLE_SEED: 4>\n",
      "\n",
      "VERSION\n",
      "    2025.09.16a1\n",
      "\n",
      "FILE\n",
      "    /Users/cps/miniconda3/envs/dplvn3p12/lib/python3.12/site-packages/dplvn.cpython-312-darwin.so\n",
      "\n",
      "\n"
     ]
    }
   ],
   "source": [
    "help(dplvn)"
   ]
  },
  {
   "cell_type": "code",
   "execution_count": 4,
   "id": "6d4bb5c9",
   "metadata": {},
   "outputs": [
    {
     "name": "stdout",
     "output_type": "stream",
     "text": [
      "Help on class SimDP in module dplvn:\n",
      "\n",
      "class SimDP(pybind11_builtins.pybind11_object)\n",
      " |  Method resolution order:\n",
      " |      SimDP\n",
      " |      pybind11_builtins.pybind11_object\n",
      " |      builtins.object\n",
      " |\n",
      " |  Methods defined here:\n",
      " |\n",
      " |  __init__(...)\n",
      " |      __init__(self: dplvn.SimDP, linear: typing.SupportsFloat = 1.0, quadratic: typing.SupportsFloat = 2.0, diffusion: typing.SupportsFloat = 0.1, noise: typing.SupportsFloat = 1.0, t_final: typing.SupportsFloat = 100.0, dx: typing.SupportsFloat = 0.5, dt: typing.SupportsFloat = 0.01, random_seed: typing.SupportsInt = 1, grid_dimension: dplvn.GridDimension = <GridDimension.D2: 2>, grid_size: collections.abc.Sequence[typing.SupportsInt] = [0, 0, 0, 0], grid_topology: dplvn.GridTopology = <GridTopology.BOUNDED: 1>, boundary_condition: dplvn.BoundaryCondition = <BoundaryCondition.FLOATING: 1>, initial_condition: dplvn.InitialCondition = <InitialCondition.RANDOM_UNIFORM: 1>, integration_method: dplvn.IntegrationMethod = <IntegrationMethod.RUNGE_KUTTA: 2>) -> None\n",
      " |\n",
      " |      Simulation of DP Langevin equation\n",
      " |\n",
      " |  get_density(...)\n",
      " |      get_density(self: dplvn.SimDP) -> numpy.typing.NDArray[numpy.float64]\n",
      " |\n",
      " |  get_i_epoch(...)\n",
      " |      get_i_epoch(self: dplvn.SimDP) -> int\n",
      " |\n",
      " |  get_mean_densities(...)\n",
      " |      get_mean_densities(self: dplvn.SimDP) -> numpy.typing.NDArray[numpy.float64]\n",
      " |\n",
      " |  get_n_epochs(...)\n",
      " |      get_n_epochs(self: dplvn.SimDP) -> int\n",
      " |\n",
      " |  get_t_epoch(...)\n",
      " |      get_t_epoch(self: dplvn.SimDP) -> float\n",
      " |\n",
      " |  get_t_epochs(...)\n",
      " |      get_t_epochs(self: dplvn.SimDP) -> numpy.typing.NDArray[numpy.float64]\n",
      " |\n",
      " |  initialize(...)\n",
      " |      initialize(self: dplvn.SimDP) -> bool\n",
      " |\n",
      " |  process(...)\n",
      " |      process(self: dplvn.SimDP) -> bool\n",
      " |\n",
      " |  run(...)\n",
      " |      run(self: dplvn.SimDP, arg0: typing.SupportsInt) -> bool\n",
      " |\n",
      " |  ----------------------------------------------------------------------\n",
      " |  Static methods inherited from pybind11_builtins.pybind11_object:\n",
      " |\n",
      " |  __new__(*args, **kwargs) class method of pybind11_builtins.pybind11_object\n",
      " |      Create and return a new object.  See help(type) for accurate signature.\n",
      "\n"
     ]
    }
   ],
   "source": [
    "help(dplvn.SimDP)"
   ]
  },
  {
   "cell_type": "markdown",
   "id": "e85946f7",
   "metadata": {},
   "source": [
    "<hr>\n",
    "\n",
    "## Demo"
   ]
  },
  {
   "cell_type": "markdown",
   "id": "e8564782",
   "metadata": {},
   "source": [
    "Perform demo integration of a DP Langevin on a 64 $\\times$ 64 grid \n",
    "(4096 cells) with simple choices of parameters."
   ]
  },
  {
   "cell_type": "code",
   "execution_count": 5,
   "id": "bd214da0",
   "metadata": {},
   "outputs": [
    {
     "name": "stdout",
     "output_type": "stream",
     "text": [
      "linear: 1\n",
      "quadratic: 2\n",
      "diffusion: 0.1\n",
      "noise: 1\n",
      "t_final: 50\n",
      "dx: 0.5\n",
      "dt: 0.01\n",
      "random_seed: 1\n",
      "grid_dimension: 2d\n",
      "grid_size: 64 64 \n",
      "n_cells: 4096\n",
      "grid_topology: bounded\n",
      "boundary_condition: floating\n",
      "initial_condition: random uniform values\n",
      "integration_method: Runge-Kutta\n"
     ]
    }
   ],
   "source": [
    "sim_dp = dplvn.SimDP(\n",
    "    linear=1.0, quadratic=2.0, diffusion=0.1, noise=1.0, \n",
    "    t_final=50.0-1e-10, \n",
    "    dx=0.5, dt=0.01,\n",
    "    random_seed=1,\n",
    "    # grid_dimension=dplvn.D1,\n",
    "    # grid_size=(4096,),\n",
    "    grid_dimension=dplvn.D2,\n",
    "    # grid_size=(8,8,),\n",
    "    # grid_size=(100,50,),\n",
    "    grid_size=(64,64,),\n",
    "    grid_topology=dplvn.BOUNDED,\n",
    "    boundary_condition=dplvn.FLOATING,\n",
    "    initial_condition=dplvn.RANDOM_UNIFORM,\n",
    "    integration_method=dplvn.RUNGE_KUTTA\n",
    ")"
   ]
  },
  {
   "cell_type": "code",
   "execution_count": 6,
   "id": "bd35c7bd",
   "metadata": {},
   "outputs": [
    {
     "name": "stdout",
     "output_type": "stream",
     "text": [
      "Number of sim epochs = 5001\n"
     ]
    }
   ],
   "source": [
    "if not sim_dp.initialize():\n",
    "    raise Exception(\"Failed to initialize sim\")\n",
    "n_epochs: int = sim_dp.get_n_epochs()\n",
    "print(f\"Number of sim epochs = {n_epochs}\")"
   ]
  },
  {
   "cell_type": "code",
   "execution_count": 7,
   "id": "e1564401",
   "metadata": {},
   "outputs": [
    {
     "name": "stdout",
     "output_type": "stream",
     "text": [
      "before i: 1\n",
      "before t: 0.01\n",
      "after  i: 5001\n",
      "after  t: 50.01\n"
     ]
    }
   ],
   "source": [
    "\n",
    "if not sim_dp.run(n_epochs-1):\n",
    "    raise Exception(\"Failed to run sim\")\n",
    "if not sim_dp.process():\n",
    "    raise Exception(\"Failed to process sim results\")"
   ]
  },
  {
   "cell_type": "markdown",
   "id": "9189e734",
   "metadata": {},
   "source": [
    "Simulation results are returned as a `numpy` array with integration time steps\n",
    "(\"epochs\") in the first column and grid-mean density (\"mean_densities\") in the\n",
    "second column. "
   ]
  },
  {
   "cell_type": "code",
   "execution_count": 8,
   "id": "45b674cc",
   "metadata": {},
   "outputs": [
    {
     "data": {
      "text/plain": [
       "(array([49.91, 49.92, 49.93, 49.94, 49.95, 49.96, 49.97, 49.98, 49.99,\n",
       "        50.  ]),\n",
       " array([0.20402813, 0.20597715, 0.20582399, 0.20651497, 0.20654715,\n",
       "        0.2057153 , 0.20615074, 0.2064372 , 0.20687052, 0.20782179]))"
      ]
     },
     "execution_count": 8,
     "metadata": {},
     "output_type": "execute_result"
    }
   ],
   "source": [
    "t_epochs: NDArray = sim_dp.get_t_epochs()\n",
    "mean_densities: NDArray = sim_dp.get_mean_densities()\n",
    "t_epochs[-10:], mean_densities[-10:]"
   ]
  },
  {
   "cell_type": "markdown",
   "id": "d0c3b5e8",
   "metadata": {},
   "source": [
    "Get cell density grid, and reorient by transposing and flipping \n",
    "about a horizontal axis (because numpy arrays are accessed by row then column)."
   ]
  },
  {
   "cell_type": "code",
   "execution_count": 9,
   "id": "14108735",
   "metadata": {},
   "outputs": [
    {
     "data": {
      "text/plain": [
       "array([[0.12, 0.34, 0.25, ..., 0.  , 0.  , 0.  ],\n",
       "       [0.  , 0.04, 0.11, ..., 0.01, 0.08, 0.  ],\n",
       "       [0.  , 0.3 , 0.01, ..., 0.  , 0.  , 0.  ],\n",
       "       ...,\n",
       "       [0.  , 0.  , 0.  , ..., 0.07, 0.  , 0.  ],\n",
       "       [0.  , 0.  , 0.  , ..., 0.39, 0.13, 0.  ],\n",
       "       [0.  , 0.  , 0.  , ..., 0.04, 0.  , 0.  ]], shape=(64, 64))"
      ]
     },
     "execution_count": 9,
     "metadata": {},
     "output_type": "execute_result"
    }
   ],
   "source": [
    "density: NDArray = sim_dp.get_density()\n",
    "np.round(np.flipud(density.T), 2)"
   ]
  },
  {
   "cell_type": "code",
   "execution_count": 10,
   "id": "cf263094",
   "metadata": {},
   "outputs": [
    {
     "data": {
      "image/png": "[encoded data removed]",
      "text/plain": [
       "<Figure size 500x500 with 1 Axes>"
      ]
     },
     "metadata": {
      "image/png": {
       "height": 470,
       "width": 451
      }
     },
     "output_type": "display_data"
    }
   ],
   "source": [
    "fig_density_image = plt.figure(figsize=(5, 5,))\n",
    "(n_x, n_y,) = density.shape\n",
    "plt.imshow(np.flipud(density.T), extent=(0, n_x, 0, n_y),)\n",
    "plt.title(r\"Cell density  $\\rho(\\mathbf{x},t_\\mathrm{final})$\")\n",
    "plt.xlabel(r\"$x$\")\n",
    "plt.ylabel(r\"$y$\");"
   ]
  },
  {
   "cell_type": "code",
   "execution_count": 11,
   "id": "831d9c97",
   "metadata": {},
   "outputs": [],
   "source": [
    "fig_density_image.savefig(\n",
    "    \"density_grid.png\",\n",
    "    bbox_inches=\"tight\",\n",
    "    pad_inches=0.05,\n",
    "    dpi=150,\n",
    "    format=\"PNG\",\n",
    ")"
   ]
  },
  {
   "cell_type": "markdown",
   "id": "d916a95d",
   "metadata": {},
   "source": [
    "<hr>\n",
    "\n",
    "## Plot results"
   ]
  },
  {
   "cell_type": "markdown",
   "id": "c284f46c",
   "metadata": {},
   "source": [
    "Plot the time-series of grid-averaged density field."
   ]
  },
  {
   "cell_type": "code",
   "execution_count": 12,
   "id": "75ffda4c",
   "metadata": {},
   "outputs": [
    {
     "data": {
      "image/png": "[encoded data removed]",
      "text/plain": [
       "<Figure size 600x300 with 1 Axes>"
      ]
     },
     "metadata": {
      "image/png": {
       "height": 295,
       "width": 538
      }
     },
     "output_type": "display_data"
    }
   ],
   "source": [
    "fig_time_series = plt.figure(figsize=(6,3))\n",
    "plt.plot(t_epochs, mean_densities, \"-\", lw=0.5,)\n",
    "plt.xlabel(r\"Time $t$  [-]\")\n",
    "plt.ylabel(r\"Grid-mean density  $\\overline{\\rho}(t)$  [-]\")\n",
    "plt.ylim(-0.02, None)\n",
    "plt.grid(ls=\":\")"
   ]
  },
  {
   "cell_type": "code",
   "execution_count": 13,
   "id": "9563ca2d",
   "metadata": {},
   "outputs": [],
   "source": [
    "fig_time_series.savefig(\n",
    "    \"meandensity_time.png\",\n",
    "    bbox_inches=\"tight\",\n",
    "    pad_inches=0.05,\n",
    "    dpi=150,\n",
    "    format=\"PNG\",\n",
    ")"
   ]
  }
 ],
 "metadata": {
  "kernelspec": {
   "display_name": "dplvn3p12",
   "language": "python",
   "name": "python3"
  },
  "language_info": {
   "codemirror_mode": {
    "name": "ipython",
    "version": 3
   },
   "file_extension": ".py",
   "mimetype": "text/x-python",
   "name": "python",
   "nbconvert_exporter": "python",
   "pygments_lexer": "ipython3",
   "version": "3.12.11"
  }
 },
 "nbformat": 4,
 "nbformat_minor": 5
}
