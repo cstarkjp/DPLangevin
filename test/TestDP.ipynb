{
 "cells": [
  {
   "cell_type": "markdown",
   "id": "62e8f9e6",
   "metadata": {},
   "source": [
    "# **Test integration of DP Langevin**"
   ]
  },
  {
   "cell_type": "markdown",
   "id": "5bc36fcd",
   "metadata": {},
   "source": [
    "Simple Jupyter notebook testing an adaptation of the Villa Martín/Buendía (VMB)\n",
    "implementation of the Dornic et al (2005) method of integrating DP/APT-type\n",
    "Langevin equations using an operator-splitting method. Access to the heavily \n",
    "refactored VMB C++ code is provided via a pybind11 wrapper.\n",
    "\n",
    "See the main README for references."
   ]
  },
  {
   "cell_type": "markdown",
   "id": "2455d206",
   "metadata": {
    "jp-MarkdownHeadingCollapsed": true
   },
   "source": [
    "<hr>\n",
    "\n",
    "## Preliminaries"
   ]
  },
  {
   "cell_type": "code",
   "execution_count": 1,
   "id": "92462053",
   "metadata": {},
   "outputs": [],
   "source": [
    "from typing import Any, Sequence, Callable\n",
    "import numpy as np\n",
    "from numpy.typing import NDArray\n",
    "import matplotlib as mpl\n",
    "from matplotlib import pyplot as plt\n",
    "from matplotlib import ticker\n",
    "from matplotlib.colors import ListedColormap, Colormap\n",
    "# import sys, os\n",
    "# sys.path.insert(0, os.path.join(os.path.pardir, \"build\"))\n",
    "import dplvn\n",
    "import initialize\n",
    "\n",
    "font_size = 11\n",
    "font_family = \"Arial\"\n",
    "try:\n",
    "    mpl.rc(\"font\", size=font_size, family=font_family)\n",
    "except:\n",
    "    mpl.rc(\"font\", size=font_size, family=\"\")"
   ]
  },
  {
   "cell_type": "code",
   "execution_count": 2,
   "id": "9d1e8e4b",
   "metadata": {},
   "outputs": [],
   "source": [
    "density_dict: dict[float, NDArray] = {}\n",
    "fig_dict: dict[str, Any] = {}\n",
    "density_image_dict: dict[int, Any] = {}\n",
    "bold = lambda str: (\"\\033[1m\" + str + \"\\033[0m\")"
   ]
  },
  {
   "cell_type": "markdown",
   "id": "6c97fca7",
   "metadata": {
    "jp-MarkdownHeadingCollapsed": true
   },
   "source": [
    "<hr>\n",
    "\n",
    "## `dplvn` info"
   ]
  },
  {
   "cell_type": "code",
   "execution_count": 3,
   "id": "38f4a6d5",
   "metadata": {},
   "outputs": [
    {
     "name": "stdout",
     "output_type": "stream",
     "text": [
      "dplvn version:  2025.10.09a2\n"
     ]
    }
   ],
   "source": [
    "print(f\"dplvn version:  {dplvn.__version__}\")"
   ]
  },
  {
   "cell_type": "code",
   "execution_count": 4,
   "id": "43017aee",
   "metadata": {},
   "outputs": [],
   "source": [
    "# help(dplvn)"
   ]
  },
  {
   "cell_type": "code",
   "execution_count": 5,
   "id": "6d4bb5c9",
   "metadata": {},
   "outputs": [],
   "source": [
    "# help(dplvn.SimDP)"
   ]
  },
  {
   "cell_type": "markdown",
   "id": "e85946f7",
   "metadata": {},
   "source": [
    "<hr>\n",
    "\n",
    "## Demo"
   ]
  },
  {
   "cell_type": "markdown",
   "id": "e8564782",
   "metadata": {},
   "source": [
    "Perform demo integration of a DP Langevin on a small grid with simple choices of parameters."
   ]
  },
  {
   "cell_type": "code",
   "execution_count": 6,
   "id": "53df0fe2",
   "metadata": {},
   "outputs": [],
   "source": [
    "# # 1d example with DP behavior turned off, and only diffusion manifest\n",
    "# sim = dplvn.SimDP(\n",
    "#     linear=1.0e-5, quadratic=2.0e-5, diffusion=0.1, noise=0.001, \n",
    "#     t_final=20.0-1e-10, \n",
    "#     dx=0.5, dt=0.01,\n",
    "#     random_seed=2,\n",
    "#     grid_dimension=dplvn.D1,\n",
    "#     grid_size=(20,),\n",
    "#     aux_values=(3, 10,),\n",
    "#     grid_topologies=(dplvn.PERIODIC,),\n",
    "#     boundary_condition=dplvn.FLOATING,\n",
    "#     initial_condition=dplvn.SINGLE_SEED,\n",
    "#     integration_method=dplvn.RUNGE_KUTTA\n",
    "# )\n",
    "# do_extend = False\n",
    "# do_bar = False"
   ]
  },
  {
   "cell_type": "code",
   "execution_count": 7,
   "id": "a1420afc",
   "metadata": {},
   "outputs": [
    {
     "name": "stdout",
     "output_type": "stream",
     "text": [
      "linear: 1e-05\n",
      "quadratic: 2e-05\n",
      "diffusion: 0.1\n",
      "noise: 0.001\n",
      "t_final: 20\n",
      "dx: 0.5\n",
      "dt: 0.01\n",
      "aux_values: 3 25 3 \n",
      "random_seed: 2\n",
      "grid_dimension: 2d\n",
      "grid_size: 30 20 \n",
      "n_cells: 600\n",
      "grid_topologies: x:periodic, y:bounded\n",
      "boundary_condition: floating\n",
      "initial_condition: single seed\n",
      "integration_method: Runge-Kutta\n"
     ]
    }
   ],
   "source": [
    "# 2d example with DP behavior turned off, and only diffusion manifest\n",
    "# By choosing different \"grid_topologies\", demonstrates mixed edge topology.\n",
    "\n",
    "sim = dplvn.SimDP(\n",
    "    linear=1.0e-5, quadratic=2.0e-5, diffusion=0.1, noise=0.001, \n",
    "    t_final=20.0-1e-10, \n",
    "    dx=0.5, dt=0.01,\n",
    "    random_seed=2,\n",
    "    grid_dimension=dplvn.D2,\n",
    "    grid_size=(30,20,),\n",
    "    # gts here mean (x-axis edges, y-axis edges)\n",
    "    #   - they don't mean x, y *directions*\n",
    "    #   - rather they mean respectively y, x directions\n",
    "    # grid_topologies=(dplvn.BOUNDED,dplvn.BOUNDED,),\n",
    "\n",
    "    grid_topologies=(dplvn.PERIODIC,dplvn.BOUNDED,),\n",
    "    aux_values=(3.0, 25, 3,),\n",
    "    # aux_values=(3.0, 15, 9,),\n",
    "\n",
    "    # grid_topologies=(dplvn.BOUNDED,dplvn.PERIODIC,),\n",
    "    # aux_values=(3.0, 25, 3,),\n",
    "    # # aux_values here mean (single seed value, s.s. x, s.s. y)\n",
    "\n",
    "    # grid_topologies=(dplvn.PERIODIC,dplvn.PERIODIC,),\n",
    "    boundary_condition=dplvn.FLOATING,\n",
    "    # initial_condition=dplvn.RANDOM_UNIFORM,\n",
    "    initial_condition=dplvn.SINGLE_SEED,\n",
    "    integration_method=dplvn.RUNGE_KUTTA\n",
    ")\n",
    "do_extend = True\n",
    "do_bar = True"
   ]
  },
  {
   "cell_type": "code",
   "execution_count": 8,
   "id": "0e123ab2",
   "metadata": {},
   "outputs": [],
   "source": [
    "# # Medium-small demo for README\n",
    "# sim = dplvn.SimDP(\n",
    "#     linear=1.0, quadratic=2.0, diffusion=0.1, noise=1.0, t_final=20.0-1e-10, \n",
    "#     dx=0.5, dt=0.01,\n",
    "#     random_seed=2,\n",
    "#     grid_dimension=dplvn.D2,\n",
    "#     grid_size=(40,25,),\n",
    "#     grid_topologies=(dplvn.PERIODIC, dplvn.PERIODIC,),\n",
    "#     boundary_condition=dplvn.FLOATING,\n",
    "#     initial_condition=dplvn.RANDOM_UNIFORM,\n",
    "#     integration_method=dplvn.RUNGE_KUTTA\n",
    "# )\n",
    "# do_extend = False\n",
    "# do_bar = True"
   ]
  },
  {
   "cell_type": "code",
   "execution_count": 9,
   "id": "bd35c7bd",
   "metadata": {},
   "outputs": [
    {
     "name": "stdout",
     "output_type": "stream",
     "text": [
      "\n",
      "construct_2D_grid: x:periodic, y:bounded\n",
      "Number of sim epochs = 2001\n"
     ]
    }
   ],
   "source": [
    "if not sim.initialize():\n",
    "    raise Exception(\"Failed to initialize sim\")\n",
    "n_epochs: int = sim.get_n_epochs()\n",
    "print()\n",
    "print(f\"Number of sim epochs = {n_epochs}\")"
   ]
  },
  {
   "cell_type": "code",
   "execution_count": 10,
   "id": "acd13ab8",
   "metadata": {},
   "outputs": [],
   "source": [
    "n_segments: int = 5\n",
    "n_segment_epochs: int = (n_epochs-1) // n_segments\n",
    "if (n_segment_epochs*n_segments+1)!=n_epochs:\n",
    "    raise Exception(\n",
    "        f\"Failed to segment sim with {n_epochs} epochs \"\n",
    "        + \"into {n_segments} segment(s)\"\n",
    "    )"
   ]
  },
  {
   "cell_type": "code",
   "execution_count": 11,
   "id": "2f908b46",
   "metadata": {},
   "outputs": [
    {
     "name": "stdout",
     "output_type": "stream",
     "text": [
      "\u001b[1msegment=0/5  i=0 t=0.0\u001b[0m\n",
      "[[0. 0. 0. 0. 0. 0. 0. 0. 0. 0. 0. 0. 0. 0. 0. 0. 0. 0. 0. 0. 0. 0. 0. 0.\n",
      "  0. 0. 0. 0. 0. 0.]\n",
      " [0. 0. 0. 0. 0. 0. 0. 0. 0. 0. 0. 0. 0. 0. 0. 0. 0. 0. 0. 0. 0. 0. 0. 0.\n",
      "  0. 0. 0. 0. 0. 0.]\n",
      " [0. 0. 0. 0. 0. 0. 0. 0. 0. 0. 0. 0. 0. 0. 0. 0. 0. 0. 0. 0. 0. 0. 0. 0.\n",
      "  0. 0. 0. 0. 0. 0.]\n",
      " [0. 0. 0. 0. 0. 0. 0. 0. 0. 0. 0. 0. 0. 0. 0. 0. 0. 0. 0. 0. 0. 0. 0. 0.\n",
      "  0. 3. 0. 0. 0. 0.]\n",
      " [0. 0. 0. 0. 0. 0. 0. 0. 0. 0. 0. 0. 0. 0. 0. 0. 0. 0. 0. 0. 0. 0. 0. 0.\n",
      "  0. 0. 0. 0. 0. 0.]\n",
      " [0. 0. 0. 0. 0. 0. 0. 0. 0. 0. 0. 0. 0. 0. 0. 0. 0. 0. 0. 0. 0. 0. 0. 0.\n",
      "  0. 0. 0. 0. 0. 0.]\n",
      " [0. 0. 0. 0. 0. 0. 0. 0. 0. 0. 0. 0. 0. 0. 0. 0. 0. 0. 0. 0. 0. 0. 0. 0.\n",
      "  0. 0. 0. 0. 0. 0.]\n",
      " [0. 0. 0. 0. 0. 0. 0. 0. 0. 0. 0. 0. 0. 0. 0. 0. 0. 0. 0. 0. 0. 0. 0. 0.\n",
      "  0. 0. 0. 0. 0. 0.]\n",
      " [0. 0. 0. 0. 0. 0. 0. 0. 0. 0. 0. 0. 0. 0. 0. 0. 0. 0. 0. 0. 0. 0. 0. 0.\n",
      "  0. 0. 0. 0. 0. 0.]\n",
      " [0. 0. 0. 0. 0. 0. 0. 0. 0. 0. 0. 0. 0. 0. 0. 0. 0. 0. 0. 0. 0. 0. 0. 0.\n",
      "  0. 0. 0. 0. 0. 0.]\n",
      " [0. 0. 0. 0. 0. 0. 0. 0. 0. 0. 0. 0. 0. 0. 0. 0. 0. 0. 0. 0. 0. 0. 0. 0.\n",
      "  0. 0. 0. 0. 0. 0.]\n",
      " [0. 0. 0. 0. 0. 0. 0. 0. 0. 0. 0. 0. 0. 0. 0. 0. 0. 0. 0. 0. 0. 0. 0. 0.\n",
      "  0. 0. 0. 0. 0. 0.]\n",
      " [0. 0. 0. 0. 0. 0. 0. 0. 0. 0. 0. 0. 0. 0. 0. 0. 0. 0. 0. 0. 0. 0. 0. 0.\n",
      "  0. 0. 0. 0. 0. 0.]\n",
      " [0. 0. 0. 0. 0. 0. 0. 0. 0. 0. 0. 0. 0. 0. 0. 0. 0. 0. 0. 0. 0. 0. 0. 0.\n",
      "  0. 0. 0. 0. 0. 0.]\n",
      " [0. 0. 0. 0. 0. 0. 0. 0. 0. 0. 0. 0. 0. 0. 0. 0. 0. 0. 0. 0. 0. 0. 0. 0.\n",
      "  0. 0. 0. 0. 0. 0.]\n",
      " [0. 0. 0. 0. 0. 0. 0. 0. 0. 0. 0. 0. 0. 0. 0. 0. 0. 0. 0. 0. 0. 0. 0. 0.\n",
      "  0. 0. 0. 0. 0. 0.]\n",
      " [0. 0. 0. 0. 0. 0. 0. 0. 0. 0. 0. 0. 0. 0. 0. 0. 0. 0. 0. 0. 0. 0. 0. 0.\n",
      "  0. 0. 0. 0. 0. 0.]\n",
      " [0. 0. 0. 0. 0. 0. 0. 0. 0. 0. 0. 0. 0. 0. 0. 0. 0. 0. 0. 0. 0. 0. 0. 0.\n",
      "  0. 0. 0. 0. 0. 0.]\n",
      " [0. 0. 0. 0. 0. 0. 0. 0. 0. 0. 0. 0. 0. 0. 0. 0. 0. 0. 0. 0. 0. 0. 0. 0.\n",
      "  0. 0. 0. 0. 0. 0.]\n",
      " [0. 0. 0. 0. 0. 0. 0. 0. 0. 0. 0. 0. 0. 0. 0. 0. 0. 0. 0. 0. 0. 0. 0. 0.\n",
      "  0. 0. 0. 0. 0. 0.]]\n",
      "\u001b[1msegment=1/5  i=400 t=4.0\u001b[0m\n",
      "[[0.   0.   0.   0.   0.   0.   0.   0.   0.   0.   0.   0.   0.   0.\n",
      "  0.   0.   0.   0.   0.   0.   0.   0.   0.01 0.02 0.03 0.04 0.03 0.02\n",
      "  0.01 0.  ]\n",
      " [0.   0.   0.   0.   0.   0.   0.   0.   0.   0.   0.   0.   0.   0.\n",
      "  0.   0.   0.   0.   0.   0.   0.   0.01 0.02 0.04 0.07 0.08 0.07 0.04\n",
      "  0.02 0.01]\n",
      " [0.   0.   0.   0.   0.   0.   0.   0.   0.   0.   0.   0.   0.   0.\n",
      "  0.   0.   0.   0.   0.   0.   0.   0.01 0.03 0.07 0.11 0.14 0.11 0.07\n",
      "  0.03 0.01]\n",
      " [0.   0.   0.   0.   0.   0.   0.   0.   0.   0.   0.   0.   0.   0.\n",
      "  0.   0.   0.   0.   0.   0.   0.   0.01 0.04 0.08 0.14 0.17 0.14 0.08\n",
      "  0.04 0.02]\n",
      " [0.   0.   0.   0.   0.   0.   0.   0.   0.   0.   0.   0.   0.   0.\n",
      "  0.   0.   0.   0.   0.   0.   0.   0.01 0.03 0.07 0.11 0.14 0.11 0.07\n",
      "  0.03 0.01]\n",
      " [0.   0.   0.   0.   0.   0.   0.   0.   0.   0.   0.   0.   0.   0.\n",
      "  0.   0.   0.   0.   0.   0.   0.   0.01 0.02 0.04 0.07 0.08 0.07 0.04\n",
      "  0.02 0.01]\n",
      " [0.   0.   0.   0.   0.   0.   0.   0.   0.   0.   0.   0.   0.   0.\n",
      "  0.   0.   0.   0.   0.   0.   0.   0.   0.01 0.02 0.03 0.04 0.03 0.02\n",
      "  0.01 0.  ]\n",
      " [0.   0.   0.   0.   0.   0.   0.   0.   0.   0.   0.   0.   0.   0.\n",
      "  0.   0.   0.   0.   0.   0.   0.   0.   0.   0.01 0.01 0.01 0.01 0.01\n",
      "  0.   0.  ]\n",
      " [0.   0.   0.   0.   0.   0.   0.   0.   0.   0.   0.   0.   0.   0.\n",
      "  0.   0.   0.   0.   0.   0.   0.   0.   0.   0.   0.   0.   0.   0.\n",
      "  0.   0.  ]\n",
      " [0.   0.   0.   0.   0.   0.   0.   0.   0.   0.   0.   0.   0.   0.\n",
      "  0.   0.   0.   0.   0.   0.   0.   0.   0.   0.   0.   0.   0.   0.\n",
      "  0.   0.  ]\n",
      " [0.   0.   0.   0.   0.   0.   0.   0.   0.   0.   0.   0.   0.   0.\n",
      "  0.   0.   0.   0.   0.   0.   0.   0.   0.   0.   0.   0.   0.   0.\n",
      "  0.   0.  ]\n",
      " [0.   0.   0.   0.   0.   0.   0.   0.   0.   0.   0.   0.   0.   0.\n",
      "  0.   0.   0.   0.   0.   0.   0.   0.   0.   0.   0.   0.   0.   0.\n",
      "  0.   0.  ]\n",
      " [0.   0.   0.   0.   0.   0.   0.   0.   0.   0.   0.   0.   0.   0.\n",
      "  0.   0.   0.   0.   0.   0.   0.   0.   0.   0.   0.   0.   0.   0.\n",
      "  0.   0.  ]\n",
      " [0.   0.   0.   0.   0.   0.   0.   0.   0.   0.   0.   0.   0.   0.\n",
      "  0.   0.   0.   0.   0.   0.   0.   0.   0.   0.   0.   0.   0.   0.\n",
      "  0.   0.  ]\n",
      " [0.   0.   0.   0.   0.   0.   0.   0.   0.   0.   0.   0.   0.   0.\n",
      "  0.   0.   0.   0.   0.   0.   0.   0.   0.   0.   0.   0.   0.   0.\n",
      "  0.   0.  ]\n",
      " [0.   0.   0.   0.   0.   0.   0.   0.   0.   0.   0.   0.   0.   0.\n",
      "  0.   0.   0.   0.   0.   0.   0.   0.   0.   0.   0.   0.   0.   0.\n",
      "  0.   0.  ]\n",
      " [0.   0.   0.   0.   0.   0.   0.   0.   0.   0.   0.   0.   0.   0.\n",
      "  0.   0.   0.   0.   0.   0.   0.   0.   0.   0.   0.   0.   0.   0.\n",
      "  0.   0.  ]\n",
      " [0.   0.   0.   0.   0.   0.   0.   0.   0.   0.   0.   0.   0.   0.\n",
      "  0.   0.   0.   0.   0.   0.   0.   0.   0.   0.   0.   0.   0.   0.\n",
      "  0.   0.  ]\n",
      " [0.   0.   0.   0.   0.   0.   0.   0.   0.   0.   0.   0.   0.   0.\n",
      "  0.   0.   0.   0.   0.   0.   0.   0.   0.   0.   0.   0.   0.   0.\n",
      "  0.   0.  ]\n",
      " [0.   0.   0.   0.   0.   0.   0.   0.   0.   0.   0.   0.   0.   0.\n",
      "  0.   0.   0.   0.   0.   0.   0.   0.   0.   0.01 0.01 0.01 0.01 0.01\n",
      "  0.   0.  ]]\n",
      "\u001b[1msegment=2/5  i=800 t=8.0\u001b[0m\n",
      "[[0.   0.   0.   0.   0.   0.   0.   0.   0.   0.   0.   0.   0.   0.\n",
      "  0.   0.   0.   0.   0.   0.   0.   0.01 0.02 0.03 0.03 0.04 0.03 0.03\n",
      "  0.02 0.01]\n",
      " [0.   0.   0.   0.   0.   0.   0.   0.   0.   0.   0.   0.   0.   0.\n",
      "  0.   0.   0.   0.   0.   0.   0.01 0.01 0.03 0.04 0.05 0.06 0.05 0.04\n",
      "  0.03 0.02]\n",
      " [0.   0.   0.   0.   0.   0.   0.   0.   0.   0.   0.   0.   0.   0.\n",
      "  0.   0.   0.   0.   0.   0.   0.01 0.02 0.03 0.05 0.07 0.07 0.07 0.05\n",
      "  0.04 0.03]\n",
      " [0.   0.   0.   0.   0.   0.   0.   0.   0.   0.   0.   0.   0.   0.\n",
      "  0.   0.   0.   0.   0.   0.   0.01 0.02 0.04 0.06 0.07 0.08 0.07 0.06\n",
      "  0.04 0.03]\n",
      " [0.   0.   0.   0.   0.   0.   0.   0.   0.   0.   0.   0.   0.   0.\n",
      "  0.   0.   0.   0.   0.   0.   0.01 0.02 0.03 0.05 0.07 0.07 0.07 0.05\n",
      "  0.04 0.03]\n",
      " [0.   0.   0.   0.   0.   0.   0.   0.   0.   0.   0.   0.   0.   0.\n",
      "  0.   0.   0.   0.   0.   0.   0.01 0.01 0.03 0.04 0.05 0.06 0.05 0.04\n",
      "  0.03 0.02]\n",
      " [0.   0.   0.   0.   0.   0.   0.   0.   0.   0.   0.   0.   0.   0.\n",
      "  0.   0.   0.   0.   0.   0.   0.   0.01 0.02 0.03 0.03 0.04 0.03 0.03\n",
      "  0.02 0.01]\n",
      " [0.   0.   0.   0.   0.   0.   0.   0.   0.   0.   0.   0.   0.   0.\n",
      "  0.   0.   0.   0.   0.   0.   0.   0.01 0.01 0.01 0.02 0.02 0.02 0.02\n",
      "  0.01 0.01]\n",
      " [0.   0.   0.   0.   0.   0.   0.   0.   0.   0.   0.   0.   0.   0.\n",
      "  0.   0.   0.   0.   0.   0.   0.   0.   0.   0.01 0.01 0.01 0.01 0.01\n",
      "  0.01 0.  ]\n",
      " [0.   0.   0.   0.   0.   0.   0.   0.   0.   0.   0.   0.   0.   0.\n",
      "  0.   0.   0.   0.   0.   0.   0.   0.   0.   0.   0.   0.   0.   0.\n",
      "  0.   0.  ]\n",
      " [0.   0.   0.   0.   0.   0.   0.   0.   0.   0.   0.   0.   0.   0.\n",
      "  0.   0.   0.   0.   0.   0.   0.   0.   0.   0.   0.   0.   0.   0.\n",
      "  0.   0.  ]\n",
      " [0.   0.   0.   0.   0.   0.   0.   0.   0.   0.   0.   0.   0.   0.\n",
      "  0.   0.   0.   0.   0.   0.   0.   0.   0.   0.   0.   0.   0.   0.\n",
      "  0.   0.  ]\n",
      " [0.   0.   0.   0.   0.   0.   0.   0.   0.   0.   0.   0.   0.   0.\n",
      "  0.   0.   0.   0.   0.   0.   0.   0.   0.   0.   0.   0.   0.   0.\n",
      "  0.   0.  ]\n",
      " [0.   0.   0.   0.   0.   0.   0.   0.   0.   0.   0.   0.   0.   0.\n",
      "  0.   0.   0.   0.   0.   0.   0.   0.   0.   0.   0.   0.   0.   0.\n",
      "  0.   0.  ]\n",
      " [0.   0.   0.   0.   0.   0.   0.   0.   0.   0.   0.   0.   0.   0.\n",
      "  0.   0.   0.   0.   0.   0.   0.   0.   0.   0.   0.   0.   0.   0.\n",
      "  0.   0.  ]\n",
      " [0.   0.   0.   0.   0.   0.   0.   0.   0.   0.   0.   0.   0.   0.\n",
      "  0.   0.   0.   0.   0.   0.   0.   0.   0.   0.   0.   0.   0.   0.\n",
      "  0.   0.  ]\n",
      " [0.   0.   0.   0.   0.   0.   0.   0.   0.   0.   0.   0.   0.   0.\n",
      "  0.   0.   0.   0.   0.   0.   0.   0.   0.   0.   0.   0.   0.   0.\n",
      "  0.   0.  ]\n",
      " [0.   0.   0.   0.   0.   0.   0.   0.   0.   0.   0.   0.   0.   0.\n",
      "  0.   0.   0.   0.   0.   0.   0.   0.   0.   0.   0.   0.   0.   0.\n",
      "  0.   0.  ]\n",
      " [0.   0.   0.   0.   0.   0.   0.   0.   0.   0.   0.   0.   0.   0.\n",
      "  0.   0.   0.   0.   0.   0.   0.   0.   0.   0.01 0.01 0.01 0.01 0.01\n",
      "  0.01 0.  ]\n",
      " [0.   0.   0.   0.   0.   0.   0.   0.   0.   0.   0.   0.   0.   0.\n",
      "  0.   0.   0.   0.   0.   0.   0.   0.01 0.01 0.01 0.02 0.02 0.02 0.02\n",
      "  0.01 0.01]]\n",
      "\u001b[1msegment=3/5  i=1200 t=12.0\u001b[0m\n",
      "[[0.01 0.   0.   0.   0.   0.   0.   0.   0.   0.   0.   0.   0.   0.\n",
      "  0.   0.   0.   0.   0.   0.   0.01 0.01 0.02 0.03 0.03 0.03 0.03 0.03\n",
      "  0.02 0.02]\n",
      " [0.   0.   0.   0.   0.   0.   0.   0.   0.   0.   0.   0.   0.   0.\n",
      "  0.   0.   0.   0.   0.   0.01 0.01 0.02 0.03 0.03 0.04 0.04 0.04 0.04\n",
      "  0.03 0.03]\n",
      " [0.   0.   0.   0.   0.   0.   0.   0.   0.   0.   0.   0.   0.   0.\n",
      "  0.   0.   0.   0.   0.   0.01 0.01 0.02 0.03 0.04 0.05 0.05 0.05 0.04\n",
      "  0.04 0.03]\n",
      " [0.   0.   0.   0.   0.   0.   0.   0.   0.   0.   0.   0.   0.   0.\n",
      "  0.   0.   0.   0.   0.   0.01 0.01 0.02 0.03 0.04 0.05 0.05 0.05 0.04\n",
      "  0.04 0.03]\n",
      " [0.   0.   0.   0.   0.   0.   0.   0.   0.   0.   0.   0.   0.   0.\n",
      "  0.   0.   0.   0.   0.   0.01 0.01 0.02 0.03 0.04 0.05 0.05 0.05 0.04\n",
      "  0.04 0.03]\n",
      " [0.   0.   0.   0.   0.   0.   0.   0.   0.   0.   0.   0.   0.   0.\n",
      "  0.   0.   0.   0.   0.   0.01 0.01 0.02 0.02 0.03 0.04 0.04 0.04 0.04\n",
      "  0.03 0.03]\n",
      " [0.   0.   0.   0.   0.   0.   0.   0.   0.   0.   0.   0.   0.   0.\n",
      "  0.   0.   0.   0.   0.   0.   0.01 0.01 0.02 0.03 0.03 0.03 0.03 0.03\n",
      "  0.02 0.02]\n",
      " [0.   0.   0.   0.   0.   0.   0.   0.   0.   0.   0.   0.   0.   0.\n",
      "  0.   0.   0.   0.   0.   0.   0.01 0.01 0.01 0.02 0.02 0.02 0.02 0.02\n",
      "  0.02 0.01]\n",
      " [0.   0.   0.   0.   0.   0.   0.   0.   0.   0.   0.   0.   0.   0.\n",
      "  0.   0.   0.   0.   0.   0.   0.   0.01 0.01 0.01 0.01 0.01 0.01 0.01\n",
      "  0.01 0.01]\n",
      " [0.   0.   0.   0.   0.   0.   0.   0.   0.   0.   0.   0.   0.   0.\n",
      "  0.   0.   0.   0.   0.   0.   0.   0.   0.   0.01 0.01 0.01 0.01 0.01\n",
      "  0.01 0.01]\n",
      " [0.   0.   0.   0.   0.   0.   0.   0.   0.   0.   0.   0.   0.   0.\n",
      "  0.   0.   0.   0.   0.   0.   0.   0.   0.   0.   0.   0.   0.   0.\n",
      "  0.   0.  ]\n",
      " [0.   0.   0.   0.   0.   0.   0.   0.   0.   0.   0.   0.   0.   0.\n",
      "  0.   0.   0.   0.   0.   0.   0.   0.   0.   0.   0.   0.   0.   0.\n",
      "  0.   0.  ]\n",
      " [0.   0.   0.   0.   0.   0.   0.   0.   0.   0.   0.   0.   0.   0.\n",
      "  0.   0.   0.   0.   0.   0.   0.   0.   0.   0.   0.   0.   0.   0.\n",
      "  0.   0.  ]\n",
      " [0.   0.   0.   0.   0.   0.   0.   0.   0.   0.   0.   0.   0.   0.\n",
      "  0.   0.   0.   0.   0.   0.   0.   0.   0.   0.   0.   0.   0.   0.\n",
      "  0.   0.  ]\n",
      " [0.   0.   0.   0.   0.   0.   0.   0.   0.   0.   0.   0.   0.   0.\n",
      "  0.   0.   0.   0.   0.   0.   0.   0.   0.   0.   0.   0.   0.   0.\n",
      "  0.   0.  ]\n",
      " [0.   0.   0.   0.   0.   0.   0.   0.   0.   0.   0.   0.   0.   0.\n",
      "  0.   0.   0.   0.   0.   0.   0.   0.   0.   0.   0.   0.   0.   0.\n",
      "  0.   0.  ]\n",
      " [0.   0.   0.   0.   0.   0.   0.   0.   0.   0.   0.   0.   0.   0.\n",
      "  0.   0.   0.   0.   0.   0.   0.   0.   0.   0.   0.   0.   0.   0.\n",
      "  0.   0.  ]\n",
      " [0.   0.   0.   0.   0.   0.   0.   0.   0.   0.   0.   0.   0.   0.\n",
      "  0.   0.   0.   0.   0.   0.   0.   0.   0.   0.01 0.01 0.01 0.01 0.01\n",
      "  0.01 0.  ]\n",
      " [0.   0.   0.   0.   0.   0.   0.   0.   0.   0.   0.   0.   0.   0.\n",
      "  0.   0.   0.   0.   0.   0.   0.   0.01 0.01 0.01 0.01 0.01 0.01 0.01\n",
      "  0.01 0.01]\n",
      " [0.   0.   0.   0.   0.   0.   0.   0.   0.   0.   0.   0.   0.   0.\n",
      "  0.   0.   0.   0.   0.   0.   0.01 0.01 0.01 0.02 0.02 0.02 0.02 0.02\n",
      "  0.01 0.01]]\n",
      "\u001b[1msegment=4/5  i=1600 t=16.0\u001b[0m\n",
      "[[0.01 0.   0.   0.   0.   0.   0.   0.   0.   0.   0.   0.   0.   0.\n",
      "  0.   0.   0.   0.   0.   0.01 0.01 0.01 0.02 0.02 0.03 0.03 0.03 0.02\n",
      "  0.02 0.02]\n",
      " [0.   0.   0.   0.   0.   0.   0.   0.   0.   0.   0.   0.   0.   0.\n",
      "  0.   0.   0.   0.   0.   0.01 0.01 0.02 0.02 0.03 0.03 0.03 0.03 0.03\n",
      "  0.03 0.03]\n",
      " [0.   0.   0.   0.   0.   0.   0.   0.   0.   0.   0.   0.   0.   0.\n",
      "  0.   0.   0.   0.   0.01 0.01 0.01 0.02 0.03 0.03 0.04 0.04 0.04 0.04\n",
      "  0.03 0.03]\n",
      " [0.   0.   0.   0.   0.   0.   0.   0.   0.   0.   0.   0.   0.   0.\n",
      "  0.   0.   0.   0.   0.01 0.01 0.01 0.02 0.03 0.03 0.04 0.04 0.04 0.04\n",
      "  0.03 0.03]\n",
      " [0.   0.   0.   0.   0.   0.   0.   0.   0.   0.   0.   0.   0.   0.\n",
      "  0.   0.   0.   0.   0.01 0.01 0.01 0.02 0.03 0.03 0.04 0.04 0.04 0.04\n",
      "  0.03 0.03]\n",
      " [0.   0.   0.   0.   0.   0.   0.   0.   0.   0.   0.   0.   0.   0.\n",
      "  0.   0.   0.   0.   0.   0.01 0.01 0.02 0.02 0.03 0.03 0.03 0.03 0.03\n",
      "  0.03 0.03]\n",
      " [0.   0.   0.   0.   0.   0.   0.   0.   0.   0.   0.   0.   0.   0.\n",
      "  0.   0.   0.   0.   0.   0.01 0.01 0.01 0.02 0.02 0.03 0.03 0.03 0.03\n",
      "  0.02 0.02]\n",
      " [0.   0.   0.   0.   0.   0.   0.   0.   0.   0.   0.   0.   0.   0.\n",
      "  0.   0.   0.   0.   0.   0.   0.01 0.01 0.01 0.02 0.02 0.02 0.02 0.02\n",
      "  0.02 0.02]\n",
      " [0.   0.   0.   0.   0.   0.   0.   0.   0.   0.   0.   0.   0.   0.\n",
      "  0.   0.   0.   0.   0.   0.   0.01 0.01 0.01 0.01 0.01 0.01 0.01 0.01\n",
      "  0.01 0.01]\n",
      " [0.   0.   0.   0.   0.   0.   0.   0.   0.   0.   0.   0.   0.   0.\n",
      "  0.   0.   0.   0.   0.   0.   0.   0.   0.01 0.01 0.01 0.01 0.01 0.01\n",
      "  0.01 0.01]\n",
      " [0.   0.   0.   0.   0.   0.   0.   0.   0.   0.   0.   0.   0.   0.\n",
      "  0.   0.   0.   0.   0.   0.   0.   0.   0.   0.   0.01 0.01 0.01 0.01\n",
      "  0.01 0.  ]\n",
      " [0.   0.   0.   0.   0.   0.   0.   0.   0.   0.   0.   0.   0.   0.\n",
      "  0.   0.   0.   0.   0.   0.   0.   0.   0.   0.   0.   0.   0.   0.\n",
      "  0.   0.  ]\n",
      " [0.   0.   0.   0.   0.   0.   0.   0.   0.   0.   0.   0.   0.   0.\n",
      "  0.   0.   0.   0.   0.   0.   0.   0.   0.   0.   0.   0.   0.   0.\n",
      "  0.   0.  ]\n",
      " [0.   0.   0.   0.   0.   0.   0.   0.   0.   0.   0.   0.   0.   0.\n",
      "  0.   0.   0.   0.   0.   0.   0.   0.   0.   0.   0.   0.   0.   0.\n",
      "  0.   0.  ]\n",
      " [0.   0.   0.   0.   0.   0.   0.   0.   0.   0.   0.   0.   0.   0.\n",
      "  0.   0.   0.   0.   0.   0.   0.   0.   0.   0.   0.   0.   0.   0.\n",
      "  0.   0.  ]\n",
      " [0.   0.   0.   0.   0.   0.   0.   0.   0.   0.   0.   0.   0.   0.\n",
      "  0.   0.   0.   0.   0.   0.   0.   0.   0.   0.   0.   0.   0.   0.\n",
      "  0.   0.  ]\n",
      " [0.   0.   0.   0.   0.   0.   0.   0.   0.   0.   0.   0.   0.   0.\n",
      "  0.   0.   0.   0.   0.   0.   0.   0.   0.   0.   0.01 0.01 0.01 0.01\n",
      "  0.   0.  ]\n",
      " [0.   0.   0.   0.   0.   0.   0.   0.   0.   0.   0.   0.   0.   0.\n",
      "  0.   0.   0.   0.   0.   0.   0.   0.   0.01 0.01 0.01 0.01 0.01 0.01\n",
      "  0.01 0.01]\n",
      " [0.   0.   0.   0.   0.   0.   0.   0.   0.   0.   0.   0.   0.   0.\n",
      "  0.   0.   0.   0.   0.   0.   0.01 0.01 0.01 0.01 0.01 0.01 0.01 0.01\n",
      "  0.01 0.01]\n",
      " [0.01 0.   0.   0.   0.   0.   0.   0.   0.   0.   0.   0.   0.   0.\n",
      "  0.   0.   0.   0.   0.   0.   0.01 0.01 0.01 0.02 0.02 0.02 0.02 0.02\n",
      "  0.02 0.01]]\n",
      "\u001b[1msegment=5/5  i=2000 t=20.0\u001b[0m\n",
      "[[0.01 0.   0.   0.   0.   0.   0.   0.   0.   0.   0.   0.   0.   0.\n",
      "  0.   0.   0.   0.   0.   0.01 0.01 0.01 0.02 0.02 0.02 0.02 0.02 0.02\n",
      "  0.02 0.02]\n",
      " [0.   0.   0.   0.   0.   0.   0.   0.   0.   0.   0.   0.   0.   0.\n",
      "  0.   0.   0.   0.   0.01 0.01 0.01 0.02 0.02 0.02 0.03 0.03 0.03 0.03\n",
      "  0.03 0.02]\n",
      " [0.   0.   0.   0.   0.   0.   0.   0.   0.   0.   0.   0.   0.   0.\n",
      "  0.   0.   0.   0.   0.01 0.01 0.01 0.02 0.02 0.03 0.03 0.03 0.03 0.03\n",
      "  0.03 0.03]\n",
      " [0.   0.   0.   0.   0.   0.   0.   0.   0.   0.   0.   0.   0.   0.\n",
      "  0.   0.   0.   0.   0.01 0.01 0.01 0.02 0.02 0.03 0.03 0.03 0.03 0.03\n",
      "  0.03 0.03]\n",
      " [0.   0.   0.   0.   0.   0.   0.   0.   0.   0.   0.   0.   0.   0.\n",
      "  0.   0.   0.   0.   0.01 0.01 0.01 0.02 0.02 0.03 0.03 0.03 0.03 0.03\n",
      "  0.03 0.03]\n",
      " [0.   0.   0.   0.   0.   0.   0.   0.   0.   0.   0.   0.   0.   0.\n",
      "  0.   0.   0.   0.   0.01 0.01 0.01 0.02 0.02 0.02 0.03 0.03 0.03 0.03\n",
      "  0.03 0.03]\n",
      " [0.   0.   0.   0.   0.   0.   0.   0.   0.   0.   0.   0.   0.   0.\n",
      "  0.   0.   0.   0.   0.   0.01 0.01 0.01 0.02 0.02 0.02 0.02 0.02 0.02\n",
      "  0.02 0.02]\n",
      " [0.   0.   0.   0.   0.   0.   0.   0.   0.   0.   0.   0.   0.   0.\n",
      "  0.   0.   0.   0.   0.   0.01 0.01 0.01 0.01 0.02 0.02 0.02 0.02 0.02\n",
      "  0.02 0.02]\n",
      " [0.   0.   0.   0.   0.   0.   0.   0.   0.   0.   0.   0.   0.   0.\n",
      "  0.   0.   0.   0.   0.   0.   0.01 0.01 0.01 0.01 0.01 0.01 0.01 0.01\n",
      "  0.01 0.01]\n",
      " [0.   0.   0.   0.   0.   0.   0.   0.   0.   0.   0.   0.   0.   0.\n",
      "  0.   0.   0.   0.   0.   0.   0.   0.01 0.01 0.01 0.01 0.01 0.01 0.01\n",
      "  0.01 0.01]\n",
      " [0.   0.   0.   0.   0.   0.   0.   0.   0.   0.   0.   0.   0.   0.\n",
      "  0.   0.   0.   0.   0.   0.   0.   0.   0.01 0.01 0.01 0.01 0.01 0.01\n",
      "  0.01 0.01]\n",
      " [0.   0.   0.   0.   0.   0.   0.   0.   0.   0.   0.   0.   0.   0.\n",
      "  0.   0.   0.   0.   0.   0.   0.   0.   0.   0.   0.   0.   0.   0.\n",
      "  0.   0.  ]\n",
      " [0.   0.   0.   0.   0.   0.   0.   0.   0.   0.   0.   0.   0.   0.\n",
      "  0.   0.   0.   0.   0.   0.   0.   0.   0.   0.   0.   0.   0.   0.\n",
      "  0.   0.  ]\n",
      " [0.   0.   0.   0.   0.   0.   0.   0.   0.   0.   0.   0.   0.   0.\n",
      "  0.   0.   0.   0.   0.   0.   0.   0.   0.   0.   0.   0.   0.   0.\n",
      "  0.   0.  ]\n",
      " [0.   0.   0.   0.   0.   0.   0.   0.   0.   0.   0.   0.   0.   0.\n",
      "  0.   0.   0.   0.   0.   0.   0.   0.   0.   0.   0.   0.   0.   0.\n",
      "  0.   0.  ]\n",
      " [0.   0.   0.   0.   0.   0.   0.   0.   0.   0.   0.   0.   0.   0.\n",
      "  0.   0.   0.   0.   0.   0.   0.   0.   0.   0.   0.   0.   0.   0.\n",
      "  0.   0.  ]\n",
      " [0.   0.   0.   0.   0.   0.   0.   0.   0.   0.   0.   0.   0.   0.\n",
      "  0.   0.   0.   0.   0.   0.   0.   0.   0.   0.01 0.01 0.01 0.01 0.01\n",
      "  0.01 0.01]\n",
      " [0.   0.   0.   0.   0.   0.   0.   0.   0.   0.   0.   0.   0.   0.\n",
      "  0.   0.   0.   0.   0.   0.   0.   0.01 0.01 0.01 0.01 0.01 0.01 0.01\n",
      "  0.01 0.01]\n",
      " [0.   0.   0.   0.   0.   0.   0.   0.   0.   0.   0.   0.   0.   0.\n",
      "  0.   0.   0.   0.   0.   0.   0.01 0.01 0.01 0.01 0.01 0.01 0.01 0.01\n",
      "  0.01 0.01]\n",
      " [0.01 0.   0.   0.   0.   0.   0.   0.   0.   0.   0.   0.   0.   0.\n",
      "  0.   0.   0.   0.   0.   0.01 0.01 0.01 0.01 0.02 0.02 0.02 0.02 0.02\n",
      "  0.02 0.01]]\n"
     ]
    }
   ],
   "source": [
    "for i_segment in range(0, n_segments+1, 1):\n",
    "    if i_segment>0 and not sim.run(n_segment_epochs):\n",
    "        raise Exception(\"Failed to run sim\")\n",
    "    if not sim.postprocess():\n",
    "        raise Exception(\"Failed to process sim results\")\n",
    "    i_epoch = sim.get_i_current_epoch()\n",
    "    t_epoch = np.round(sim.get_t_current_epoch())\n",
    "    density_dict[t_epoch] = sim.get_density()\n",
    "    print(bold(\n",
    "        f\"segment={i_segment}/{n_segments}  \"\n",
    "        + f\"i={i_epoch} t={t_epoch}\"\n",
    "    ))\n",
    "    # print(f\"t epochs:  {sim.get_t_epochs()}\")\n",
    "    # print(f\"mean densities:  {sim.get_mean_densities()}\")\n",
    "    # print(\"cell density grid:\")\n",
    "    print(np.round(density_dict[t_epoch].T, 2), flush=True)\n",
    "    # print(flush=True)"
   ]
  },
  {
   "cell_type": "markdown",
   "id": "9189e734",
   "metadata": {},
   "source": [
    "Simulation results are returned as a `numpy` array with integration time steps\n",
    "(\"epochs\") in the first column and grid-mean density (\"mean_densities\") in the\n",
    "second column. "
   ]
  },
  {
   "cell_type": "code",
   "execution_count": 12,
   "id": "45b674cc",
   "metadata": {},
   "outputs": [
    {
     "data": {
      "text/plain": [
       "(array([19.91, 19.92, 19.93, 19.94, 19.95, 19.96, 19.97, 19.98, 19.99,\n",
       "        20.  ]),\n",
       " array([0.00497606, 0.00497552, 0.00497568, 0.00497548, 0.00497578,\n",
       "        0.00497557, 0.00497566, 0.00497548, 0.00497598, 0.00497571]))"
      ]
     },
     "execution_count": 12,
     "metadata": {},
     "output_type": "execute_result"
    }
   ],
   "source": [
    "t_epochs: NDArray = sim.get_t_epochs()\n",
    "mean_densities: NDArray = sim.get_mean_densities()\n",
    "t_epochs[-10:], mean_densities[-10:]"
   ]
  },
  {
   "cell_type": "markdown",
   "id": "4e0af287",
   "metadata": {},
   "source": [
    "<hr>\n",
    "\n",
    "## Plot"
   ]
  },
  {
   "cell_type": "code",
   "execution_count": 13,
   "id": "d162f8c4",
   "metadata": {},
   "outputs": [],
   "source": [
    "def plot_density_image(\n",
    "        t_epoch: float, \n",
    "        density: NDArray,\n",
    "        do_extend: bool=True,\n",
    "    ):\n",
    "    fig = plt.figure(figsize=(6,6,))\n",
    "    color_palette: str = \"inferno_r\"\n",
    "    color_map: Colormap = plt.get_cmap(color_palette) #type: ignore\n",
    "    grid_: NDArray = np.flipud(density.T)\n",
    "    n_pad_ud: int = max(grid_.shape[0]//4, 8)\n",
    "    n_pad_lr: int = max(grid_.shape[1]//4, 8)\n",
    "    if do_extend:\n",
    "        grid_ = np.vstack([grid_[n_pad_ud:], grid_])\n",
    "        grid_ = np.hstack([grid_, grid_[:,:n_pad_lr]])\n",
    "    (n_ud, n_lr,) = grid_.shape\n",
    "    plt.imshow(\n",
    "        grid_,  \n",
    "        extent=(0, n_lr, 0, n_ud), \n",
    "        cmap=color_map,\n",
    "        vmin=0, #vmax=2,\n",
    "        # vmin=0.2, vmax=0.9,\n",
    "    )\n",
    "    if do_bar:\n",
    "        ticks: NDArray = np.arange(0, 3, 0.5,)\n",
    "        color_bar: Any = plt.colorbar(\n",
    "            shrink=0.35, pad=0.05, aspect=12, ticks=ticks, extend=\"max\",\n",
    "        )\n",
    "        color_bar.set_label(r\"$\\rho(\\mathbf{x},t)$  [-]\")\n",
    "    plt.title(r\"density  $\\rho(\\mathbf{x},t=$\" \n",
    "              + f\"{t_epoch:0{4}.1f}\" + r\"$)$\")\n",
    "    plt.xlabel(r\"$x$   [-]\")\n",
    "    plt.ylabel(r\"$y$   [-]\")\n",
    "    plt.close()\n",
    "    return fig"
   ]
  },
  {
   "cell_type": "code",
   "execution_count": 14,
   "id": "c167a028",
   "metadata": {},
   "outputs": [
    {
     "data": {
      "image/png": "[encoded data removed]",
      "text/plain": [
       "<Figure size 600x600 with 2 Axes>"
      ]
     },
     "execution_count": 14,
     "metadata": {
      "image/png": {
       "height": 401,
       "width": 529
      }
     },
     "output_type": "execute_result"
    }
   ],
   "source": [
    "for i_epoch_, t_epoch_ in enumerate(density_dict.keys()):\n",
    "    density_ = density_dict[t_epoch_]\n",
    "    density_image_dict[i_epoch_] \\\n",
    "        = plot_density_image(t_epoch_, density_, do_extend=do_extend,)\n",
    "density_image_dict[n_segments]"
   ]
  },
  {
   "cell_type": "markdown",
   "id": "c284f46c",
   "metadata": {},
   "source": [
    "Plot the time-series of the grid-averaged density field."
   ]
  },
  {
   "cell_type": "code",
   "execution_count": 15,
   "id": "75ffda4c",
   "metadata": {},
   "outputs": [
    {
     "data": {
      "image/png": "[encoded data removed]",
      "text/plain": [
       "<Figure size 600x300 with 1 Axes>"
      ]
     },
     "metadata": {
      "image/png": {
       "height": 301,
       "width": 565
      }
     },
     "output_type": "display_data"
    }
   ],
   "source": [
    "fig_dict.update({\"meandensity_time\": plt.figure(figsize=(6, 3,))})\n",
    "plt.plot(t_epochs, mean_densities, \"-\", lw=0.5,)\n",
    "plt.xlabel(r\"Time $t$  [-]\")\n",
    "plt.ylabel(r\"Grid-mean density  $\\overline{\\rho}(t)$  [-]\")\n",
    "plt.ylim(-0.02, None)\n",
    "plt.grid(ls=\":\")"
   ]
  },
  {
   "cell_type": "markdown",
   "id": "9c854e11",
   "metadata": {
    "jp-MarkdownHeadingCollapsed": true
   },
   "source": [
    "<hr>\n",
    "\n",
    "## Save"
   ]
  },
  {
   "cell_type": "code",
   "execution_count": 16,
   "id": "17d44220",
   "metadata": {},
   "outputs": [
    {
     "name": "stdout",
     "output_type": "stream",
     "text": [
      "meandensity_time.png\n"
     ]
    }
   ],
   "source": [
    "for fig_ in fig_dict.keys():\n",
    "    fig_name_ = f\"{fig_}.png\"\n",
    "    print(fig_name_)\n",
    "    fig_dict[fig_].savefig(\n",
    "        fig_name_,\n",
    "        bbox_inches=\"tight\",\n",
    "        pad_inches=0.05,\n",
    "        dpi=150,\n",
    "        format=\"PNG\",\n",
    "    )"
   ]
  },
  {
   "cell_type": "code",
   "execution_count": 17,
   "id": "45d729e4",
   "metadata": {},
   "outputs": [
    {
     "name": "stdout",
     "output_type": "stream",
     "text": [
      "density_grid.png\n"
     ]
    }
   ],
   "source": [
    "fig_name_ = \"density_grid.png\"\n",
    "print(fig_name_)\n",
    "density_image_dict[n_segments].savefig(\n",
    "    fig_name_,\n",
    "    bbox_inches=\"tight\",\n",
    "    pad_inches=0.05,\n",
    "    dpi=150,\n",
    "    format=\"PNG\",\n",
    ")"
   ]
  }
 ],
 "metadata": {
  "kernelspec": {
   "display_name": "dplvn3p12",
   "language": "python",
   "name": "python3"
  },
  "language_info": {
   "codemirror_mode": {
    "name": "ipython",
    "version": 3
   },
   "file_extension": ".py",
   "mimetype": "text/x-python",
   "name": "python",
   "nbconvert_exporter": "python",
   "pygments_lexer": "ipython3",
   "version": "3.12.11"
  }
 },
 "nbformat": 4,
 "nbformat_minor": 5
}
