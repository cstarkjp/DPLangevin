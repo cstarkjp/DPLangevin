{
 "cells": [
  {
   "cell_type": "markdown",
   "id": "62e8f9e6",
   "metadata": {},
   "source": [
    "# **Test DP integration**"
   ]
  },
  {
   "cell_type": "markdown",
   "id": "5bc36fcd",
   "metadata": {},
   "source": [
    "Simple Jupyter notebook testing an adaptation of the Villa Martín/Buendía (VMB)\n",
    "implementation of the Dornic et al (2005) method of integrating DP/APT-type\n",
    "Langevin equations using an operator-splitting method. Access to the heavily \n",
    "refactored VMB C++ code is provided via a pybind11 wrapper.\n",
    "\n",
    "See the repo README for references."
   ]
  },
  {
   "cell_type": "markdown",
   "id": "2455d206",
   "metadata": {},
   "source": [
    "<hr>\n",
    "\n",
    "## Preliminaries"
   ]
  },
  {
   "cell_type": "code",
   "execution_count": null,
   "id": "92462053",
   "metadata": {},
   "outputs": [],
   "source": [
    "import numpy as np\n",
    "from matplotlib import pyplot as plt\n",
    "from numpy.typing import NDArray\n",
    "# import os, sys\n",
    "# sys.path.insert(0, os.path.abspath('../'))\n",
    "import dplvn\n",
    "import initialize"
   ]
  },
  {
   "cell_type": "markdown",
   "id": "6c97fca7",
   "metadata": {},
   "source": [
    "<hr>\n",
    "\n",
    "## Package `dplvn` info"
   ]
  },
  {
   "cell_type": "code",
   "execution_count": null,
   "id": "43017aee",
   "metadata": {},
   "outputs": [],
   "source": [
    "help(dplvn)"
   ]
  },
  {
   "cell_type": "code",
   "execution_count": null,
   "id": "6d4bb5c9",
   "metadata": {},
   "outputs": [],
   "source": [
    "help(dplvn.dp)"
   ]
  },
  {
   "cell_type": "markdown",
   "id": "e85946f7",
   "metadata": {},
   "source": [
    "<hr>\n",
    "\n",
    "## Demo"
   ]
  },
  {
   "cell_type": "markdown",
   "id": "e8564782",
   "metadata": {},
   "source": [
    "Perform demo integration of a DP Langevin on a $64 \\times 64$ grid \n",
    "(4096 cells) with simple choices of parameters."
   ]
  },
  {
   "cell_type": "code",
   "execution_count": null,
   "id": "bd214da0",
   "metadata": {},
   "outputs": [],
   "source": [
    "result: NDArray = dplvn.dp(\n",
    "    # n_cells=64, #4096 \n",
    "    linear=1.0, quadratic=2.0, diffusion=0.1, noise=1.0, \n",
    "    # t_max=100.0, dx=0.5, dt=0.01\n",
    ")"
   ]
  },
  {
   "cell_type": "markdown",
   "id": "9189e734",
   "metadata": {},
   "source": [
    "Simulation results are returned as a `numpy` array with integration time steps\n",
    "(\"epochs\") in the first column and grid-mean density (\"mean_densities\") in the\n",
    "second column. "
   ]
  },
  {
   "cell_type": "code",
   "execution_count": null,
   "id": "287d80ce",
   "metadata": {},
   "outputs": [],
   "source": [
    "type(result), result.shape"
   ]
  },
  {
   "cell_type": "code",
   "execution_count": null,
   "id": "45b674cc",
   "metadata": {},
   "outputs": [],
   "source": [
    "epochs: NDArray = result[:, 0]\n",
    "mean_densities: NDArray = result[:, 1]\n",
    "epochs[-10:], mean_densities[-10:]"
   ]
  },
  {
   "cell_type": "markdown",
   "id": "d916a95d",
   "metadata": {},
   "source": [
    "<hr>\n",
    "\n",
    "## Plot results"
   ]
  },
  {
   "cell_type": "markdown",
   "id": "c284f46c",
   "metadata": {},
   "source": [
    "Plot the time-series of grid-averaged density field."
   ]
  },
  {
   "cell_type": "code",
   "execution_count": null,
   "id": "75ffda4c",
   "metadata": {},
   "outputs": [],
   "source": [
    "fig = plt.figure(figsize=(6,3))\n",
    "plt.plot(epochs, mean_densities, \"-\", lw=0.5,)\n",
    "plt.xlabel(r\"Time $t$  [-]\")\n",
    "plt.ylabel(r\"Grid-mean density  $\\overline{\\rho}(t)$  [-]\")\n",
    "plt.ylim(-0.02, None)\n",
    "plt.grid(ls=\":\")"
   ]
  },
  {
   "cell_type": "code",
   "execution_count": null,
   "id": "9563ca2d",
   "metadata": {},
   "outputs": [],
   "source": [
    "fig.savefig(\n",
    "    \"meandensity_time.png\",\n",
    "    bbox_inches=\"tight\",\n",
    "    pad_inches=0.05,\n",
    "    dpi=150,\n",
    "    format=\"PNG\",\n",
    ")"
   ]
  }
 ],
 "metadata": {
  "kernelspec": {
   "display_name": "dplvn3p12",
   "language": "python",
   "name": "python3"
  },
  "language_info": {
   "codemirror_mode": {
    "name": "ipython",
    "version": 3
   },
   "file_extension": ".py",
   "mimetype": "text/x-python",
   "name": "python",
   "nbconvert_exporter": "python",
   "pygments_lexer": "ipython3",
   "version": "3.12.11"
  }
 },
 "nbformat": 4,
 "nbformat_minor": 5
}
