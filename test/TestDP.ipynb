{
 "cells": [
  {
   "cell_type": "markdown",
   "id": "62e8f9e6",
   "metadata": {},
   "source": [
    "# **Test integration of DP Langevin**"
   ]
  },
  {
   "cell_type": "markdown",
   "id": "5bc36fcd",
   "metadata": {},
   "source": [
    "Simple Jupyter notebook testing an adaptation of the Villa Martín/Buendía (VMB)\n",
    "implementation of the Dornic et al (2005) method of integrating DP/APT-type\n",
    "Langevin equations using an operator-splitting method. Access to the heavily \n",
    "refactored VMB C++ code is provided via a pybind11 wrapper.\n",
    "\n",
    "See the main README for references."
   ]
  },
  {
   "cell_type": "markdown",
   "id": "2455d206",
   "metadata": {},
   "source": [
    "<hr>\n",
    "\n",
    "## Preliminaries"
   ]
  },
  {
   "cell_type": "code",
   "execution_count": 1,
   "id": "92462053",
   "metadata": {},
   "outputs": [],
   "source": [
    "from typing import Any, Sequence, Callable\n",
    "import numpy as np\n",
    "from numpy.typing import NDArray\n",
    "import matplotlib as mpl\n",
    "from matplotlib import pyplot as plt\n",
    "from matplotlib import ticker\n",
    "from matplotlib.colors import ListedColormap, Colormap\n",
    "import dplvn\n",
    "import initialize\n",
    "\n",
    "font_size = 11\n",
    "font_family = \"Arial\"\n",
    "try:\n",
    "    mpl.rc(\"font\", size=font_size, family=font_family)\n",
    "except:\n",
    "    mpl.rc(\"font\", size=font_size, family=\"\")"
   ]
  },
  {
   "cell_type": "code",
   "execution_count": 2,
   "id": "9d1e8e4b",
   "metadata": {},
   "outputs": [],
   "source": [
    "density_dict: dict[float, NDArray] = {}\n",
    "fig_dict: dict[str, Any] = {}\n",
    "density_image_dict: dict[int, Any] = {}"
   ]
  },
  {
   "cell_type": "markdown",
   "id": "6c97fca7",
   "metadata": {},
   "source": [
    "<hr>\n",
    "\n",
    "## `dplvn` info"
   ]
  },
  {
   "cell_type": "code",
   "execution_count": 3,
   "id": "38f4a6d5",
   "metadata": {},
   "outputs": [
    {
     "name": "stdout",
     "output_type": "stream",
     "text": [
      "dplvn version:  2025.09.16a1\n"
     ]
    }
   ],
   "source": [
    "print(f\"dplvn version:  {dplvn.__version__}\")"
   ]
  },
  {
   "cell_type": "code",
   "execution_count": 4,
   "id": "43017aee",
   "metadata": {},
   "outputs": [
    {
     "name": "stdout",
     "output_type": "stream",
     "text": [
      "Help on module dplvn:\n",
      "\n",
      "NAME\n",
      "    dplvn - Operator-splitting method of integrating DP-type Langevin equations\n",
      "\n",
      "CLASSES\n",
      "    pybind11_builtins.pybind11_object(builtins.object)\n",
      "        BoundaryCondition\n",
      "        GridDimension\n",
      "        GridTopology\n",
      "        InitialCondition\n",
      "        IntegrationMethod\n",
      "        SimDP\n",
      "\n",
      "    class BoundaryCondition(pybind11_builtins.pybind11_object)\n",
      "     |  Method resolution order:\n",
      "     |      BoundaryCondition\n",
      "     |      pybind11_builtins.pybind11_object\n",
      "     |      builtins.object\n",
      "     |\n",
      "     |  Methods defined here:\n",
      "     |\n",
      "     |  __eq__(...)\n",
      "     |      __eq__(self: object, other: object, /) -> bool\n",
      "     |\n",
      "     |  __getstate__(...)\n",
      "     |      __getstate__(self: object, /) -> int\n",
      "     |\n",
      "     |  __hash__(...)\n",
      "     |      __hash__(self: object, /) -> int\n",
      "     |\n",
      "     |  __index__(...)\n",
      "     |      __index__(self: dplvn.BoundaryCondition, /) -> int\n",
      "     |\n",
      "     |  __init__(...)\n",
      "     |      __init__(self: dplvn.BoundaryCondition, value: typing.SupportsInt) -> None\n",
      "     |\n",
      "     |  __int__(...)\n",
      "     |      __int__(self: dplvn.BoundaryCondition, /) -> int\n",
      "     |\n",
      "     |  __ne__(...)\n",
      "     |      __ne__(self: object, other: object, /) -> bool\n",
      "     |\n",
      "     |  __repr__(...)\n",
      "     |      __repr__(self: object, /) -> str\n",
      "     |\n",
      "     |  __setstate__(...)\n",
      "     |      __setstate__(self: dplvn.BoundaryCondition, state: typing.SupportsInt, /) -> None\n",
      "     |\n",
      "     |  __str__(...)\n",
      "     |      __str__(self: object, /) -> str\n",
      "     |\n",
      "     |  ----------------------------------------------------------------------\n",
      "     |  Readonly properties defined here:\n",
      "     |\n",
      "     |  __members__\n",
      "     |\n",
      "     |  name\n",
      "     |      name(self: object, /) -> str\n",
      "     |\n",
      "     |  value\n",
      "     |\n",
      "     |  ----------------------------------------------------------------------\n",
      "     |  Data and other attributes defined here:\n",
      "     |\n",
      "     |  FIXED_FLUX = <BoundaryCondition.FIXED_FLUX: 3>\n",
      "     |\n",
      "     |  FIXED_VALUE = <BoundaryCondition.FIXED_VALUE: 2>\n",
      "     |\n",
      "     |  FLOATING = <BoundaryCondition.FLOATING: 1>\n",
      "     |\n",
      "     |  ----------------------------------------------------------------------\n",
      "     |  Static methods inherited from pybind11_builtins.pybind11_object:\n",
      "     |\n",
      "     |  __new__(*args, **kwargs) class method of pybind11_builtins.pybind11_object\n",
      "     |      Create and return a new object.  See help(type) for accurate signature.\n",
      "\n",
      "    class GridDimension(pybind11_builtins.pybind11_object)\n",
      "     |  Method resolution order:\n",
      "     |      GridDimension\n",
      "     |      pybind11_builtins.pybind11_object\n",
      "     |      builtins.object\n",
      "     |\n",
      "     |  Methods defined here:\n",
      "     |\n",
      "     |  __eq__(...)\n",
      "     |      __eq__(self: object, other: object, /) -> bool\n",
      "     |\n",
      "     |  __getstate__(...)\n",
      "     |      __getstate__(self: object, /) -> int\n",
      "     |\n",
      "     |  __hash__(...)\n",
      "     |      __hash__(self: object, /) -> int\n",
      "     |\n",
      "     |  __index__(...)\n",
      "     |      __index__(self: dplvn.GridDimension, /) -> int\n",
      "     |\n",
      "     |  __init__(...)\n",
      "     |      __init__(self: dplvn.GridDimension, value: typing.SupportsInt) -> None\n",
      "     |\n",
      "     |  __int__(...)\n",
      "     |      __int__(self: dplvn.GridDimension, /) -> int\n",
      "     |\n",
      "     |  __ne__(...)\n",
      "     |      __ne__(self: object, other: object, /) -> bool\n",
      "     |\n",
      "     |  __repr__(...)\n",
      "     |      __repr__(self: object, /) -> str\n",
      "     |\n",
      "     |  __setstate__(...)\n",
      "     |      __setstate__(self: dplvn.GridDimension, state: typing.SupportsInt, /) -> None\n",
      "     |\n",
      "     |  __str__(...)\n",
      "     |      __str__(self: object, /) -> str\n",
      "     |\n",
      "     |  ----------------------------------------------------------------------\n",
      "     |  Readonly properties defined here:\n",
      "     |\n",
      "     |  __members__\n",
      "     |\n",
      "     |  name\n",
      "     |      name(self: object, /) -> str\n",
      "     |\n",
      "     |  value\n",
      "     |\n",
      "     |  ----------------------------------------------------------------------\n",
      "     |  Data and other attributes defined here:\n",
      "     |\n",
      "     |  D1 = <GridDimension.D1: 1>\n",
      "     |\n",
      "     |  D2 = <GridDimension.D2: 2>\n",
      "     |\n",
      "     |  D3 = <GridDimension.D3: 3>\n",
      "     |\n",
      "     |  D4 = <GridDimension.D4: 4>\n",
      "     |\n",
      "     |  ----------------------------------------------------------------------\n",
      "     |  Static methods inherited from pybind11_builtins.pybind11_object:\n",
      "     |\n",
      "     |  __new__(*args, **kwargs) class method of pybind11_builtins.pybind11_object\n",
      "     |      Create and return a new object.  See help(type) for accurate signature.\n",
      "\n",
      "    class GridTopology(pybind11_builtins.pybind11_object)\n",
      "     |  Method resolution order:\n",
      "     |      GridTopology\n",
      "     |      pybind11_builtins.pybind11_object\n",
      "     |      builtins.object\n",
      "     |\n",
      "     |  Methods defined here:\n",
      "     |\n",
      "     |  __eq__(...)\n",
      "     |      __eq__(self: object, other: object, /) -> bool\n",
      "     |\n",
      "     |  __getstate__(...)\n",
      "     |      __getstate__(self: object, /) -> int\n",
      "     |\n",
      "     |  __hash__(...)\n",
      "     |      __hash__(self: object, /) -> int\n",
      "     |\n",
      "     |  __index__(...)\n",
      "     |      __index__(self: dplvn.GridTopology, /) -> int\n",
      "     |\n",
      "     |  __init__(...)\n",
      "     |      __init__(self: dplvn.GridTopology, value: typing.SupportsInt) -> None\n",
      "     |\n",
      "     |  __int__(...)\n",
      "     |      __int__(self: dplvn.GridTopology, /) -> int\n",
      "     |\n",
      "     |  __ne__(...)\n",
      "     |      __ne__(self: object, other: object, /) -> bool\n",
      "     |\n",
      "     |  __repr__(...)\n",
      "     |      __repr__(self: object, /) -> str\n",
      "     |\n",
      "     |  __setstate__(...)\n",
      "     |      __setstate__(self: dplvn.GridTopology, state: typing.SupportsInt, /) -> None\n",
      "     |\n",
      "     |  __str__(...)\n",
      "     |      __str__(self: object, /) -> str\n",
      "     |\n",
      "     |  ----------------------------------------------------------------------\n",
      "     |  Readonly properties defined here:\n",
      "     |\n",
      "     |  __members__\n",
      "     |\n",
      "     |  name\n",
      "     |      name(self: object, /) -> str\n",
      "     |\n",
      "     |  value\n",
      "     |\n",
      "     |  ----------------------------------------------------------------------\n",
      "     |  Data and other attributes defined here:\n",
      "     |\n",
      "     |  BOUNDED = <GridTopology.BOUNDED: 1>\n",
      "     |\n",
      "     |  PERIODIC = <GridTopology.PERIODIC: 2>\n",
      "     |\n",
      "     |  ----------------------------------------------------------------------\n",
      "     |  Static methods inherited from pybind11_builtins.pybind11_object:\n",
      "     |\n",
      "     |  __new__(*args, **kwargs) class method of pybind11_builtins.pybind11_object\n",
      "     |      Create and return a new object.  See help(type) for accurate signature.\n",
      "\n",
      "    class InitialCondition(pybind11_builtins.pybind11_object)\n",
      "     |  Method resolution order:\n",
      "     |      InitialCondition\n",
      "     |      pybind11_builtins.pybind11_object\n",
      "     |      builtins.object\n",
      "     |\n",
      "     |  Methods defined here:\n",
      "     |\n",
      "     |  __eq__(...)\n",
      "     |      __eq__(self: object, other: object, /) -> bool\n",
      "     |\n",
      "     |  __getstate__(...)\n",
      "     |      __getstate__(self: object, /) -> int\n",
      "     |\n",
      "     |  __hash__(...)\n",
      "     |      __hash__(self: object, /) -> int\n",
      "     |\n",
      "     |  __index__(...)\n",
      "     |      __index__(self: dplvn.InitialCondition, /) -> int\n",
      "     |\n",
      "     |  __init__(...)\n",
      "     |      __init__(self: dplvn.InitialCondition, value: typing.SupportsInt) -> None\n",
      "     |\n",
      "     |  __int__(...)\n",
      "     |      __int__(self: dplvn.InitialCondition, /) -> int\n",
      "     |\n",
      "     |  __ne__(...)\n",
      "     |      __ne__(self: object, other: object, /) -> bool\n",
      "     |\n",
      "     |  __repr__(...)\n",
      "     |      __repr__(self: object, /) -> str\n",
      "     |\n",
      "     |  __setstate__(...)\n",
      "     |      __setstate__(self: dplvn.InitialCondition, state: typing.SupportsInt, /) -> None\n",
      "     |\n",
      "     |  __str__(...)\n",
      "     |      __str__(self: object, /) -> str\n",
      "     |\n",
      "     |  ----------------------------------------------------------------------\n",
      "     |  Readonly properties defined here:\n",
      "     |\n",
      "     |  __members__\n",
      "     |\n",
      "     |  name\n",
      "     |      name(self: object, /) -> str\n",
      "     |\n",
      "     |  value\n",
      "     |\n",
      "     |  ----------------------------------------------------------------------\n",
      "     |  Data and other attributes defined here:\n",
      "     |\n",
      "     |  CONSTANT_VALUE = <InitialCondition.CONSTANT_VALUE: 3>\n",
      "     |\n",
      "     |  RANDOM_GAUSSIAN = <InitialCondition.RANDOM_GAUSSIAN: 2>\n",
      "     |\n",
      "     |  RANDOM_UNIFORM = <InitialCondition.RANDOM_UNIFORM: 1>\n",
      "     |\n",
      "     |  SINGLE_SEED = <InitialCondition.SINGLE_SEED: 4>\n",
      "     |\n",
      "     |  ----------------------------------------------------------------------\n",
      "     |  Static methods inherited from pybind11_builtins.pybind11_object:\n",
      "     |\n",
      "     |  __new__(*args, **kwargs) class method of pybind11_builtins.pybind11_object\n",
      "     |      Create and return a new object.  See help(type) for accurate signature.\n",
      "\n",
      "    class IntegrationMethod(pybind11_builtins.pybind11_object)\n",
      "     |  Method resolution order:\n",
      "     |      IntegrationMethod\n",
      "     |      pybind11_builtins.pybind11_object\n",
      "     |      builtins.object\n",
      "     |\n",
      "     |  Methods defined here:\n",
      "     |\n",
      "     |  __eq__(...)\n",
      "     |      __eq__(self: object, other: object, /) -> bool\n",
      "     |\n",
      "     |  __getstate__(...)\n",
      "     |      __getstate__(self: object, /) -> int\n",
      "     |\n",
      "     |  __hash__(...)\n",
      "     |      __hash__(self: object, /) -> int\n",
      "     |\n",
      "     |  __index__(...)\n",
      "     |      __index__(self: dplvn.IntegrationMethod, /) -> int\n",
      "     |\n",
      "     |  __init__(...)\n",
      "     |      __init__(self: dplvn.IntegrationMethod, value: typing.SupportsInt) -> None\n",
      "     |\n",
      "     |  __int__(...)\n",
      "     |      __int__(self: dplvn.IntegrationMethod, /) -> int\n",
      "     |\n",
      "     |  __ne__(...)\n",
      "     |      __ne__(self: object, other: object, /) -> bool\n",
      "     |\n",
      "     |  __repr__(...)\n",
      "     |      __repr__(self: object, /) -> str\n",
      "     |\n",
      "     |  __setstate__(...)\n",
      "     |      __setstate__(self: dplvn.IntegrationMethod, state: typing.SupportsInt, /) -> None\n",
      "     |\n",
      "     |  __str__(...)\n",
      "     |      __str__(self: object, /) -> str\n",
      "     |\n",
      "     |  ----------------------------------------------------------------------\n",
      "     |  Readonly properties defined here:\n",
      "     |\n",
      "     |  __members__\n",
      "     |\n",
      "     |  name\n",
      "     |      name(self: object, /) -> str\n",
      "     |\n",
      "     |  value\n",
      "     |\n",
      "     |  ----------------------------------------------------------------------\n",
      "     |  Data and other attributes defined here:\n",
      "     |\n",
      "     |  EULER = <IntegrationMethod.EULER: 1>\n",
      "     |\n",
      "     |  RUNGE_KUTTA = <IntegrationMethod.RUNGE_KUTTA: 2>\n",
      "     |\n",
      "     |  ----------------------------------------------------------------------\n",
      "     |  Static methods inherited from pybind11_builtins.pybind11_object:\n",
      "     |\n",
      "     |  __new__(*args, **kwargs) class method of pybind11_builtins.pybind11_object\n",
      "     |      Create and return a new object.  See help(type) for accurate signature.\n",
      "\n",
      "    class SimDP(pybind11_builtins.pybind11_object)\n",
      "     |  Method resolution order:\n",
      "     |      SimDP\n",
      "     |      pybind11_builtins.pybind11_object\n",
      "     |      builtins.object\n",
      "     |\n",
      "     |  Methods defined here:\n",
      "     |\n",
      "     |  __init__(...)\n",
      "     |      __init__(self: dplvn.SimDP, linear: typing.SupportsFloat = 1.0, quadratic: typing.SupportsFloat = 2.0, diffusion: typing.SupportsFloat = 0.1, noise: typing.SupportsFloat = 1.0, t_final: typing.SupportsFloat = 100.0, dx: typing.SupportsFloat = 0.5, dt: typing.SupportsFloat = 0.01, random_seed: typing.SupportsInt = 1, grid_dimension: dplvn.GridDimension = <GridDimension.D2: 2>, grid_size: collections.abc.Sequence[typing.SupportsInt] = [0, 0, 0, 0], grid_topology: dplvn.GridTopology = <GridTopology.BOUNDED: 1>, boundary_condition: dplvn.BoundaryCondition = <BoundaryCondition.FLOATING: 1>, initial_condition: dplvn.InitialCondition = <InitialCondition.RANDOM_UNIFORM: 1>, integration_method: dplvn.IntegrationMethod = <IntegrationMethod.RUNGE_KUTTA: 2>) -> None\n",
      "     |\n",
      "     |      Simulation of DP Langevin equation\n",
      "     |\n",
      "     |  get_density(...)\n",
      "     |      get_density(self: dplvn.SimDP) -> numpy.typing.NDArray[numpy.float64]\n",
      "     |\n",
      "     |  get_i_epoch(...)\n",
      "     |      get_i_epoch(self: dplvn.SimDP) -> int\n",
      "     |\n",
      "     |  get_mean_densities(...)\n",
      "     |      get_mean_densities(self: dplvn.SimDP) -> numpy.typing.NDArray[numpy.float64]\n",
      "     |\n",
      "     |  get_n_epochs(...)\n",
      "     |      get_n_epochs(self: dplvn.SimDP) -> int\n",
      "     |\n",
      "     |  get_t_epoch(...)\n",
      "     |      get_t_epoch(self: dplvn.SimDP) -> float\n",
      "     |\n",
      "     |  get_t_epochs(...)\n",
      "     |      get_t_epochs(self: dplvn.SimDP) -> numpy.typing.NDArray[numpy.float64]\n",
      "     |\n",
      "     |  initialize(...)\n",
      "     |      initialize(self: dplvn.SimDP) -> bool\n",
      "     |\n",
      "     |  process(...)\n",
      "     |      process(self: dplvn.SimDP) -> bool\n",
      "     |\n",
      "     |  run(...)\n",
      "     |      run(self: dplvn.SimDP, arg0: typing.SupportsInt) -> bool\n",
      "     |\n",
      "     |  ----------------------------------------------------------------------\n",
      "     |  Static methods inherited from pybind11_builtins.pybind11_object:\n",
      "     |\n",
      "     |  __new__(*args, **kwargs) class method of pybind11_builtins.pybind11_object\n",
      "     |      Create and return a new object.  See help(type) for accurate signature.\n",
      "\n",
      "DATA\n",
      "    BOUNDED = <GridTopology.BOUNDED: 1>\n",
      "    CONSTANT_VALUE = <InitialCondition.CONSTANT_VALUE: 3>\n",
      "    D1 = <GridDimension.D1: 1>\n",
      "    D2 = <GridDimension.D2: 2>\n",
      "    D3 = <GridDimension.D3: 3>\n",
      "    D4 = <GridDimension.D4: 4>\n",
      "    EULER = <IntegrationMethod.EULER: 1>\n",
      "    FIXED_FLUX = <BoundaryCondition.FIXED_FLUX: 3>\n",
      "    FIXED_VALUE = <BoundaryCondition.FIXED_VALUE: 2>\n",
      "    FLOATING = <BoundaryCondition.FLOATING: 1>\n",
      "    PERIODIC = <GridTopology.PERIODIC: 2>\n",
      "    RANDOM_GAUSSIAN = <InitialCondition.RANDOM_GAUSSIAN: 2>\n",
      "    RANDOM_UNIFORM = <InitialCondition.RANDOM_UNIFORM: 1>\n",
      "    RUNGE_KUTTA = <IntegrationMethod.RUNGE_KUTTA: 2>\n",
      "    SINGLE_SEED = <InitialCondition.SINGLE_SEED: 4>\n",
      "\n",
      "VERSION\n",
      "    2025.09.16a1\n",
      "\n",
      "FILE\n",
      "    /Users/cps/miniconda3/envs/dplvn3p12/lib/python3.12/site-packages/dplvn.cpython-312-darwin.so\n",
      "\n",
      "\n"
     ]
    }
   ],
   "source": [
    "help(dplvn)"
   ]
  },
  {
   "cell_type": "code",
   "execution_count": 5,
   "id": "6d4bb5c9",
   "metadata": {},
   "outputs": [
    {
     "name": "stdout",
     "output_type": "stream",
     "text": [
      "Help on class SimDP in module dplvn:\n",
      "\n",
      "class SimDP(pybind11_builtins.pybind11_object)\n",
      " |  Method resolution order:\n",
      " |      SimDP\n",
      " |      pybind11_builtins.pybind11_object\n",
      " |      builtins.object\n",
      " |\n",
      " |  Methods defined here:\n",
      " |\n",
      " |  __init__(...)\n",
      " |      __init__(self: dplvn.SimDP, linear: typing.SupportsFloat = 1.0, quadratic: typing.SupportsFloat = 2.0, diffusion: typing.SupportsFloat = 0.1, noise: typing.SupportsFloat = 1.0, t_final: typing.SupportsFloat = 100.0, dx: typing.SupportsFloat = 0.5, dt: typing.SupportsFloat = 0.01, random_seed: typing.SupportsInt = 1, grid_dimension: dplvn.GridDimension = <GridDimension.D2: 2>, grid_size: collections.abc.Sequence[typing.SupportsInt] = [0, 0, 0, 0], grid_topology: dplvn.GridTopology = <GridTopology.BOUNDED: 1>, boundary_condition: dplvn.BoundaryCondition = <BoundaryCondition.FLOATING: 1>, initial_condition: dplvn.InitialCondition = <InitialCondition.RANDOM_UNIFORM: 1>, integration_method: dplvn.IntegrationMethod = <IntegrationMethod.RUNGE_KUTTA: 2>) -> None\n",
      " |\n",
      " |      Simulation of DP Langevin equation\n",
      " |\n",
      " |  get_density(...)\n",
      " |      get_density(self: dplvn.SimDP) -> numpy.typing.NDArray[numpy.float64]\n",
      " |\n",
      " |  get_i_epoch(...)\n",
      " |      get_i_epoch(self: dplvn.SimDP) -> int\n",
      " |\n",
      " |  get_mean_densities(...)\n",
      " |      get_mean_densities(self: dplvn.SimDP) -> numpy.typing.NDArray[numpy.float64]\n",
      " |\n",
      " |  get_n_epochs(...)\n",
      " |      get_n_epochs(self: dplvn.SimDP) -> int\n",
      " |\n",
      " |  get_t_epoch(...)\n",
      " |      get_t_epoch(self: dplvn.SimDP) -> float\n",
      " |\n",
      " |  get_t_epochs(...)\n",
      " |      get_t_epochs(self: dplvn.SimDP) -> numpy.typing.NDArray[numpy.float64]\n",
      " |\n",
      " |  initialize(...)\n",
      " |      initialize(self: dplvn.SimDP) -> bool\n",
      " |\n",
      " |  process(...)\n",
      " |      process(self: dplvn.SimDP) -> bool\n",
      " |\n",
      " |  run(...)\n",
      " |      run(self: dplvn.SimDP, arg0: typing.SupportsInt) -> bool\n",
      " |\n",
      " |  ----------------------------------------------------------------------\n",
      " |  Static methods inherited from pybind11_builtins.pybind11_object:\n",
      " |\n",
      " |  __new__(*args, **kwargs) class method of pybind11_builtins.pybind11_object\n",
      " |      Create and return a new object.  See help(type) for accurate signature.\n",
      "\n"
     ]
    }
   ],
   "source": [
    "help(dplvn.SimDP)"
   ]
  },
  {
   "cell_type": "markdown",
   "id": "e85946f7",
   "metadata": {},
   "source": [
    "<hr>\n",
    "\n",
    "## Demo"
   ]
  },
  {
   "cell_type": "markdown",
   "id": "e8564782",
   "metadata": {},
   "source": [
    "Perform demo integration of a DP Langevin on a 64 $\\times$ 64 grid \n",
    "(4096 cells) with simple choices of parameters."
   ]
  },
  {
   "cell_type": "code",
   "execution_count": 6,
   "id": "bd214da0",
   "metadata": {},
   "outputs": [
    {
     "name": "stdout",
     "output_type": "stream",
     "text": [
      "linear: 1\n",
      "quadratic: 2\n",
      "diffusion: 0.1\n",
      "noise: 1\n",
      "t_final: 20\n",
      "dx: 0.5\n",
      "dt: 0.01\n",
      "random_seed: 1\n",
      "grid_dimension: 2d\n",
      "grid_size: 40 20 \n",
      "n_cells: 800\n",
      "grid_topology: bounded\n",
      "boundary_condition: floating\n",
      "initial_condition: random uniform values\n",
      "integration_method: Runge-Kutta\n"
     ]
    }
   ],
   "source": [
    "sim = dplvn.SimDP(\n",
    "    linear=1.0, quadratic=2.0, diffusion=0.1, noise=1.0, \n",
    "    t_final=20.0-1e-10, \n",
    "    # t_final=1e4-1e-10, \n",
    "    dx=0.5, dt=0.01,\n",
    "    random_seed=1,\n",
    "    # grid_dimension=dplvn.D1,\n",
    "    # grid_size=(4096,),\n",
    "    grid_dimension=dplvn.D2,\n",
    "    # grid_size=(8,8,),\n",
    "    grid_size=(40,20,),\n",
    "    grid_topology=dplvn.BOUNDED,\n",
    "    boundary_condition=dplvn.FLOATING,\n",
    "    initial_condition=dplvn.RANDOM_UNIFORM,\n",
    "    integration_method=dplvn.RUNGE_KUTTA\n",
    ")"
   ]
  },
  {
   "cell_type": "code",
   "execution_count": 7,
   "id": "bd35c7bd",
   "metadata": {},
   "outputs": [
    {
     "name": "stdout",
     "output_type": "stream",
     "text": [
      "Number of sim epochs = 2001\n"
     ]
    }
   ],
   "source": [
    "if not sim.initialize():\n",
    "    raise Exception(\"Failed to initialize sim\")\n",
    "n_epochs: int = sim.get_n_epochs()\n",
    "print(f\"Number of sim epochs = {n_epochs}\")"
   ]
  },
  {
   "cell_type": "code",
   "execution_count": 8,
   "id": "acd13ab8",
   "metadata": {},
   "outputs": [],
   "source": [
    "n_segments: int = 5\n",
    "n_segment_epochs: int = (n_epochs-1) // n_segments\n",
    "if (n_segment_epochs*n_segments+1)!=n_epochs:\n",
    "    raise Exception(\n",
    "        f\"Failed to segment sim with {n_epochs} epochs \"\n",
    "        + \"into {n_segments} segment(s)\"\n",
    "    )"
   ]
  },
  {
   "cell_type": "code",
   "execution_count": 9,
   "id": "6e113365",
   "metadata": {},
   "outputs": [
    {
     "name": "stdout",
     "output_type": "stream",
     "text": [
      "\u001b[1mIntegrating:  2001 epochs in 5 segment(s)\u001b[0m\n",
      "\n",
      "\u001b[1msegment=0/5  i=0\u001b[0m\n"
     ]
    }
   ],
   "source": [
    "bold = lambda str: (\"\\033[1m\" + str + \"\\033[0m\")\n",
    "print(bold(f\"Integrating:  {n_epochs} epochs in {n_segments} segment(s)\"))\n",
    "print()\n",
    "i_segment: int = 0\n",
    "if not sim.process():\n",
    "    raise Exception(\"Failed to process sim results\")\n",
    "i_epoch: int = sim.get_i_epoch()\n",
    "t_epoch: float = sim.get_t_epoch()\n",
    "density_dict[0] = sim.get_density()\n",
    "print(bold(f\"segment={i_segment}/{n_segments}  i={i_epoch-1}\"))\n",
    "# print(f\"t epochs:  {sim.get_t_epochs()}\")\n",
    "# print(f\"mean densities:  {sim.get_mean_densities()}\")\n",
    "# print(\"cell density grid:\")\n",
    "# print(np.round(density_dict[0].T, 2))"
   ]
  },
  {
   "cell_type": "code",
   "execution_count": 10,
   "id": "2f908b46",
   "metadata": {},
   "outputs": [
    {
     "name": "stdout",
     "output_type": "stream",
     "text": [
      "\u001b[1msegment=1/5  i=400 t=4.0\u001b[0m\n",
      "\u001b[1msegment=2/5  i=800 t=8.0\u001b[0m\n",
      "\u001b[1msegment=3/5  i=1200 t=12.0\u001b[0m\n",
      "\u001b[1msegment=4/5  i=1600 t=16.0\u001b[0m\n",
      "\u001b[1msegment=5/5  i=2000 t=20.0\u001b[0m\n"
     ]
    }
   ],
   "source": [
    "Δt: float = 0.01\n",
    "for i_segment in range(n_segments):\n",
    "    if not sim.run(n_segment_epochs):\n",
    "        raise Exception(\"Failed to run sim\")\n",
    "    if not sim.process():\n",
    "        raise Exception(\"Failed to process sim results\")\n",
    "    i_epoch = sim.get_i_epoch()\n",
    "    t_epoch = np.round(sim.get_t_epoch()-Δt)\n",
    "    print(bold(\n",
    "        f\"segment={i_segment+1}/{n_segments}  \"\n",
    "        + f\"i={i_epoch-1} t={t_epoch}\"\n",
    "    ))\n",
    "    density_dict[t_epoch] = sim.get_density()\n",
    "    # print(f\"t epochs:  {sim.get_t_epochs()}\")\n",
    "    # print(f\"mean densities:  {sim.get_mean_densities()}\")\n",
    "    # print(\"cell density grid:\")\n",
    "    # print(np.round(density_dict[t_epoch].T, 2))\n",
    "    # print()"
   ]
  },
  {
   "cell_type": "markdown",
   "id": "9189e734",
   "metadata": {},
   "source": [
    "Simulation results are returned as a `numpy` array with integration time steps\n",
    "(\"epochs\") in the first column and grid-mean density (\"mean_densities\") in the\n",
    "second column. "
   ]
  },
  {
   "cell_type": "code",
   "execution_count": 11,
   "id": "45b674cc",
   "metadata": {},
   "outputs": [
    {
     "data": {
      "text/plain": [
       "(array([19.91, 19.92, 19.93, 19.94, 19.95, 19.96, 19.97, 19.98, 19.99,\n",
       "        20.  ]),\n",
       " array([0.19032459, 0.19007298, 0.19392529, 0.19251185, 0.19323263,\n",
       "        0.19594577, 0.19633862, 0.19509322, 0.19353102, 0.19260761]))"
      ]
     },
     "execution_count": 11,
     "metadata": {},
     "output_type": "execute_result"
    }
   ],
   "source": [
    "t_epochs: NDArray = sim.get_t_epochs()\n",
    "mean_densities: NDArray = sim.get_mean_densities()\n",
    "t_epochs[-10:], mean_densities[-10:]"
   ]
  },
  {
   "cell_type": "code",
   "execution_count": 12,
   "id": "cf263094",
   "metadata": {},
   "outputs": [],
   "source": [
    "def plot_density_image(t_epoch: float, density: NDArray,):\n",
    "    fig = plt.figure(figsize=(5, 5,))\n",
    "    (n_x, n_y,) = density.shape\n",
    "    color_palette: str = \"inferno_r\"\n",
    "    color_map: Colormap = plt.get_cmap(color_palette) #type: ignore\n",
    "    plt.imshow(\n",
    "        np.flipud(density.T),  extent=(0, n_x, 0, n_y), cmap=color_map,\n",
    "    )\n",
    "    ticks: NDArray = np.arange(0, 5, 0.5,)\n",
    "    color_bar: Any = plt.colorbar(\n",
    "        shrink=0.35, pad=0.05, aspect=8, ticks=ticks,\n",
    "    )\n",
    "    color_bar.set_label(r\"$\\rho(\\mathbf{x},t)$  [-]\")\n",
    "    plt.title(r\"density  $\\rho(\\mathbf{x},t=$\" + f\"{t_epoch:g}\" + r\"$)$\")\n",
    "    plt.xlabel(r\"$x$   [-]\")\n",
    "    plt.ylabel(r\"$y$   [-]\")\n",
    "    plt.close()\n",
    "    return fig"
   ]
  },
  {
   "cell_type": "code",
   "execution_count": 13,
   "id": "c167a028",
   "metadata": {},
   "outputs": [
    {
     "data": {
      "image/png": "[encoded data removed]",
      "text/plain": [
       "<Figure size 500x500 with 2 Axes>"
      ]
     },
     "execution_count": 13,
     "metadata": {
      "image/png": {
       "height": 243,
       "width": 467
      }
     },
     "output_type": "execute_result"
    }
   ],
   "source": [
    "for i_epoch_, t_epoch_ in enumerate(density_dict.keys()):\n",
    "    density_ = density_dict[t_epoch_]\n",
    "    density_image_dict[i_epoch_] = plot_density_image(t_epoch_, density_)\n",
    "density_image_dict[n_segments]"
   ]
  },
  {
   "cell_type": "markdown",
   "id": "d916a95d",
   "metadata": {},
   "source": [
    "<hr>\n",
    "\n",
    "## Plot"
   ]
  },
  {
   "cell_type": "markdown",
   "id": "c284f46c",
   "metadata": {},
   "source": [
    "Plot the time-series of grid-averaged density field."
   ]
  },
  {
   "cell_type": "code",
   "execution_count": 14,
   "id": "75ffda4c",
   "metadata": {},
   "outputs": [
    {
     "data": {
      "image/png": "[encoded data removed]",
      "text/plain": [
       "<Figure size 600x300 with 1 Axes>"
      ]
     },
     "metadata": {
      "image/png": {
       "height": 301,
       "width": 539
      }
     },
     "output_type": "display_data"
    }
   ],
   "source": [
    "fig_dict.update({\"meandensity_time\": plt.figure(figsize=(6, 3,))})\n",
    "plt.plot(t_epochs, mean_densities, \"-\", lw=0.5,)\n",
    "plt.xlabel(r\"Time $t$  [-]\")\n",
    "plt.ylabel(r\"Grid-mean density  $\\overline{\\rho}(t)$  [-]\")\n",
    "plt.ylim(-0.02, None)\n",
    "plt.grid(ls=\":\")"
   ]
  },
  {
   "cell_type": "markdown",
   "id": "9c854e11",
   "metadata": {},
   "source": [
    "<hr>\n",
    "\n",
    "## Save"
   ]
  },
  {
   "cell_type": "code",
   "execution_count": 15,
   "id": "17d44220",
   "metadata": {},
   "outputs": [
    {
     "name": "stdout",
     "output_type": "stream",
     "text": [
      "meandensity_time\n"
     ]
    }
   ],
   "source": [
    "for fig_ in fig_dict.keys():\n",
    "    print(fig_)\n",
    "    fig_dict[fig_].savefig(\n",
    "        fig_,\n",
    "        bbox_inches=\"tight\",\n",
    "        pad_inches=0.05,\n",
    "        dpi=150,\n",
    "        format=\"PNG\",\n",
    "    )"
   ]
  }
 ],
 "metadata": {
  "kernelspec": {
   "display_name": "dplvn3p12",
   "language": "python",
   "name": "python3"
  },
  "language_info": {
   "codemirror_mode": {
    "name": "ipython",
    "version": 3
   },
   "file_extension": ".py",
   "mimetype": "text/x-python",
   "name": "python",
   "nbconvert_exporter": "python",
   "pygments_lexer": "ipython3",
   "version": "3.12.11"
  }
 },
 "nbformat": 4,
 "nbformat_minor": 5
}
